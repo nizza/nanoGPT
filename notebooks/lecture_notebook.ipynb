{
 "cells": [
  {
   "cell_type": "code",
   "execution_count": 76,
   "id": "45feaa06-246d-4db5-b396-4ae03955cf96",
   "metadata": {},
   "outputs": [],
   "source": [
    "import os\n",
    "import requests\n",
    "import torch\n",
    "import torch.nn as nn\n",
    "import torch.nn.functional as F"
   ]
  },
  {
   "cell_type": "code",
   "execution_count": 370,
   "id": "e834f670-8e0a-42c9-8feb-0fe693496976",
   "metadata": {},
   "outputs": [],
   "source": [
    "import matplotlib.pyplot as plt\n",
    "%matplotlib inline"
   ]
  },
  {
   "cell_type": "markdown",
   "id": "c75f91d4-59c4-4327-b3d3-eeb2c4f1a95a",
   "metadata": {},
   "source": [
    "# Reading the data"
   ]
  },
  {
   "cell_type": "code",
   "execution_count": 13,
   "id": "9bf124b6-cf70-4fbf-aea1-45aaadb412f9",
   "metadata": {},
   "outputs": [],
   "source": [
    "# Downloading the file\n",
    "filepath = '../data/input.txt'\n",
    "if not os.path.exists(filepath):\n",
    "    data_url = 'https://raw.githubusercontent.com/karpathy/char-rnn/master/data/tinyshakespeare/input.txt'\n",
    "    with open(filepath, 'w', encoding='utf-8') as f:\n",
    "        f.write(requests.get(data_url).text)"
   ]
  },
  {
   "cell_type": "code",
   "execution_count": 19,
   "id": "7b7cb886-719a-4eea-b5aa-c8bd73c9ab86",
   "metadata": {},
   "outputs": [
    {
     "name": "stdout",
     "output_type": "stream",
     "text": [
      "First Citizen:\n",
      "Before we proceed any further, hear me speak.\n",
      "\n",
      "All:\n",
      "Speak, speak.\n",
      "\n",
      "First Citizen:\n",
      "You\n"
     ]
    }
   ],
   "source": [
    "# Reading the file\n",
    "with open(filepath) as f:\n",
    "    raw_text = f.read()\n",
    "\n",
    "print(raw_text[:100])"
   ]
  },
  {
   "cell_type": "code",
   "execution_count": 32,
   "id": "448f2fc4-c7a1-4907-800a-3ad80ca94483",
   "metadata": {},
   "outputs": [
    {
     "name": "stdout",
     "output_type": "stream",
     "text": [
      "vocab_size: 65\n",
      "encode.    hello   => [46, 43, 50, 50, 53, 2]\n",
      "decode.    [46, 43, 50, 50, 53, 2]   => hello!\n"
     ]
    }
   ],
   "source": [
    "\n",
    "# ordered list of all characters in the corpus\n",
    "vocab = sorted(list(set(raw_text)))\n",
    "vocab_size = len(vocab)\n",
    "print(f'vocab_size: {vocab_size}')\n",
    "\n",
    "# dictionaries to convert chars to ints, and viceversa\n",
    "itos = {i:v for i,v in enumerate(vocab)}\n",
    "stoi = {v:i for i,v in enumerate(vocab)}\n",
    "\n",
    "# functions to tokenize sequences of arbitrary length\n",
    "encode = lambda x : [stoi[s] for s in x]\n",
    "decode = lambda x : ''.join([itos[i] for i in x])\n",
    "\n",
    "hello_encoded = encode('hello!')\n",
    "hello_decoded = decode(hello_encoded)\n",
    "print(f'encode.    hello   => {hello_encoded}')\n",
    "print(f'decode.    {hello_encoded}   => {hello_decoded}')"
   ]
  },
  {
   "cell_type": "code",
   "execution_count": 34,
   "id": "cdda0100-1254-4c05-831b-cbc55704ef28",
   "metadata": {},
   "outputs": [
    {
     "data": {
      "text/plain": [
       "torch.Size([1115394])"
      ]
     },
     "execution_count": 34,
     "metadata": {},
     "output_type": "execute_result"
    }
   ],
   "source": [
    "# Tokenizing the text an creating a numerical tensor\n",
    "token_text = torch.tensor(encode(raw_text))\n",
    "token_text.shape"
   ]
  },
  {
   "cell_type": "code",
   "execution_count": 35,
   "id": "de3660e2-505c-4400-b2b2-be7e7ff3a20a",
   "metadata": {},
   "outputs": [
    {
     "name": "stdout",
     "output_type": "stream",
     "text": [
      "torch.Size([1003854]) torch.Size([111540])\n"
     ]
    }
   ],
   "source": [
    "# Splitting data in train, val\n",
    "train_size = int(0.9 * len(token_text))\n",
    "data_train = token_text[:train_size]\n",
    "data_val = token_text[train_size:]\n",
    "print(data_train.shape, data_val.shape)"
   ]
  },
  {
   "cell_type": "code",
   "execution_count": 72,
   "id": "ddddde4b-7ceb-4a1f-b16c-92426f0fdc15",
   "metadata": {},
   "outputs": [],
   "source": [
    "# Preparing training batches\n",
    "\n",
    "torch.manual_seed(1337)\n",
    "\n",
    "batch_size = 4   # the number of sample processed in the same batch\n",
    "block_size = 8   # the length of the sequence of character used by the model to predict the next character\n",
    "\n",
    "def get_batch(data, batch_size, block_size):\n",
    "\n",
    "    # generating the start index of  batch_size independent samples\n",
    "    idx = torch.randint(len(data)-block_size, (batch_size,))\n",
    "\n",
    "    # extracting the xi, each having block_size elements\n",
    "    x = torch.stack([data[i:i+block_size] for i in idx])\n",
    "\n",
    "    # extracting the yi, the next characters\n",
    "    y = torch.stack([data[i+1:i+1+block_size] for i in idx]) \n",
    "    return x, y\n",
    "\n",
    "x_train, y_train = get_batch(data_train, batch_size, block_size)"
   ]
  },
  {
   "cell_type": "code",
   "execution_count": 73,
   "id": "2c7f158e-8dfb-4ee6-8deb-2d83564a0553",
   "metadata": {},
   "outputs": [
    {
     "name": "stdout",
     "output_type": "stream",
     "text": [
      "torch.Size([4, 8])\n",
      "tensor([[24, 43, 58,  5, 57,  1, 46, 43],\n",
      "        [44, 53, 56,  1, 58, 46, 39, 58],\n",
      "        [52, 58,  1, 58, 46, 39, 58,  1],\n",
      "        [25, 17, 27, 10,  0, 21,  1, 54]])\n",
      "\n",
      "torch.Size([4, 8])\n",
      "tensor([[43, 58,  5, 57,  1, 46, 43, 39],\n",
      "        [53, 56,  1, 58, 46, 39, 58,  1],\n",
      "        [58,  1, 58, 46, 39, 58,  1, 46],\n",
      "        [17, 27, 10,  0, 21,  1, 54, 39]])\n"
     ]
    }
   ],
   "source": [
    "print(x_train.shape)\n",
    "print(x_train)\n",
    "print()\n",
    "print(y_train.shape)\n",
    "print(y_train)"
   ]
  },
  {
   "cell_type": "markdown",
   "id": "f78f6934-a4aa-42ef-aa38-4095a1f10dc1",
   "metadata": {},
   "source": [
    "# Creating models"
   ]
  },
  {
   "cell_type": "markdown",
   "id": "705c2bc9-e0d6-4ca6-8ce0-1cdef5522800",
   "metadata": {},
   "source": [
    "## Bigram model\n"
   ]
  },
  {
   "cell_type": "code",
   "execution_count": 204,
   "id": "5ba49595-2bc7-4d7e-85c3-701e994048e8",
   "metadata": {},
   "outputs": [],
   "source": [
    "# Predicts next character using only the previous character\n",
    "\n",
    "class BigramLanguageModel(nn.Module):\n",
    "\n",
    "    def __init__(self, vocab_size):\n",
    "        super().__init__()\n",
    "\n",
    "        # A table mapping the index of each character, to the logits distribution of the next character\n",
    "        # The element E[i,j] represent the logit associated to next character being j, when the current \n",
    "        # character is i\n",
    "        self.E = nn.Embedding(vocab_size, vocab_size)\n",
    "\n",
    "    def forward(self, X, y=None):\n",
    "\n",
    "        # extracting the logits of the next character, for each character in the input\n",
    "        # The shape of the input is (batch_size, block_size)\n",
    "        # The shape of the output is (batch_size, block_size, vocab_size)\n",
    "        logits = self.E(X)\n",
    "\n",
    "        # computing loss, only when a target y is provided\n",
    "        if y is not None:\n",
    "            # reshaping logits, and target to match the expected shapes of the cross_entropy function\n",
    "            batch_size, block_size, vocab_size = logits.shape\n",
    "            logits = logits.view((batch_size*block_size, vocab_size))\n",
    "            y = y.view(batch_size*block_size)\n",
    "            \n",
    "            # computing the loss\n",
    "            loss = F.cross_entropy(logits, y)\n",
    "        else:\n",
    "            loss = None\n",
    "\n",
    "        return logits, loss\n",
    "\n",
    "    def generate(self, X, max_length=100):\n",
    "\n",
    "        for i in range(max_length):\n",
    "            # performing a forward pass\n",
    "            logits, loss = self.forward(X)\n",
    "    \n",
    "            # condsidering only the last character of each sequence\n",
    "            logits = logits[:, -1, :]\n",
    "    \n",
    "            # computing probs, from the logits\n",
    "            probs = logits.softmax(dim=-1)\n",
    "    \n",
    "            # sampling from the probability distributions\n",
    "            new_element = torch.multinomial(probs, 1)\n",
    "    \n",
    "            # attaching the new elements to the context\n",
    "            X = torch.concat((X, new_element), axis=1)\n",
    "\n",
    "        # Decoding the generated sequences\n",
    "        res = [decode(X[i].tolist()) for i in range(X.shape[0]) ]\n",
    "\n",
    "        return res"
   ]
  },
  {
   "cell_type": "code",
   "execution_count": 205,
   "id": "e164e577-5b86-403c-ad07-e01e25e6d903",
   "metadata": {},
   "outputs": [
    {
     "data": {
      "text/plain": [
       "(torch.Size([32, 65]), tensor(4.7027, grad_fn=<NllLossBackward0>))"
      ]
     },
     "execution_count": 205,
     "metadata": {},
     "output_type": "execute_result"
    }
   ],
   "source": [
    "m = BigramLanguageModel(vocab_size)\n",
    "logits, loss = m(x_train, y_train)\n",
    "logits.shape, loss"
   ]
  },
  {
   "cell_type": "code",
   "execution_count": 211,
   "id": "724f4af3-bd59-4db4-9119-faee516b875e",
   "metadata": {},
   "outputs": [
    {
     "name": "stdout",
     "output_type": "stream",
     "text": [
      "\n",
      ".Y:pb,xY;?\n",
      "zBblo GCGv;\n",
      "K:sC?KugUDt\n",
      "ED;Dtj;Dc$ab!avNsl,pAfdEqOfbzmSo!&iTjxFoCIyHSmy;zwU3p3b?:EMIy PAW\n"
     ]
    }
   ],
   "source": [
    "# Generating sequence from UNTRAINED model\n",
    "\n",
    "# creating initial context\n",
    "context = torch.zeros((1, 1)).int()\n",
    "\n",
    "# generating sequence of arbitrary length \n",
    "res = m.generate(context, max_length=100)\n",
    "\n",
    "print(res[0])"
   ]
  },
  {
   "cell_type": "code",
   "execution_count": 212,
   "id": "4f0b7d6f-0917-4012-bd59-2a0e1785ef96",
   "metadata": {},
   "outputs": [
    {
     "name": "stdout",
     "output_type": "stream",
     "text": [
      "4.6096601486206055\n",
      "3.907146453857422\n",
      "3.3213071823120117\n",
      "2.8333771228790283\n",
      "2.9970436096191406\n",
      "2.904151439666748\n",
      "2.7995710372924805\n",
      "2.4972057342529297\n",
      "2.693941354751587\n",
      "2.48555588722229\n"
     ]
    }
   ],
   "source": [
    "# Training a model with Adam Optimizer\n",
    "optimizer = torch.optim.Adam(m.parameters(), lr=10**(-3))\n",
    "\n",
    "for i in range(10000):\n",
    "\n",
    "    # generating a random batch\n",
    "    X_b, y_b = get_batch(data_train, batch_size, block_size)\n",
    "\n",
    "    # forward pass\n",
    "    logits, loss = m(X_b, y_b)\n",
    "\n",
    "    # bacward pass\n",
    "    optimizer.zero_grad(set_to_none=True)\n",
    "    loss.backward()\n",
    "    optimizer.step()\n",
    "\n",
    "    if i % 1000 == 0:\n",
    "        print(loss.item())"
   ]
  },
  {
   "cell_type": "code",
   "execution_count": 214,
   "id": "63dbe722-fb69-44c6-98f7-df2df2c44c17",
   "metadata": {},
   "outputs": [
    {
     "name": "stdout",
     "output_type": "stream",
     "text": [
      "\n",
      "ABd hatratdir on lir o tre:\n",
      "E:\n",
      "O:\n",
      "TEY;\n",
      "Duraso.ped arerd.\n",
      "He de, I lande, ompe'sepOM3rehe IG me ake it heard zibas way nd nd hireagmbeexj?\n",
      "Lorerdithofo:\n",
      "A:\n",
      "HME:\n",
      "vpees; PW-pe Lbe warothe m s crve y;\n",
      "Nucoun ld,\n",
      "YAufotoouson Bup'do-hor haved isonderis byou:\n",
      "These l oll d d st a\n",
      "NGS:D tllatofare d:\n",
      "M3BAt h cen'd ourgor rs, f he chor wharome terelaime be s ISous mec?d; cwis o te: Q.\n",
      "dl toul, anoubesus kifrnthes,\n",
      "A r heinoun, h cis oo therer intootlinod ce whooue mons\n",
      "Bis,\n",
      "\n",
      "The celikexpas gls l o merrs\n"
     ]
    }
   ],
   "source": [
    "# Generating sequence from TRAINED model\n",
    "\n",
    "# creating initial context\n",
    "context = torch.zeros((1, 1)).int()\n",
    "\n",
    "# generating sequence of arbitrary length \n",
    "res = m.generate(context, max_length=500)\n",
    "\n",
    "print(res[0])"
   ]
  },
  {
   "cell_type": "markdown",
   "id": "6406f0ee-800e-4ddd-b9e5-f28520bf56aa",
   "metadata": {},
   "source": [
    "## Transformer model"
   ]
  },
  {
   "cell_type": "code",
   "execution_count": 273,
   "id": "e6b23776-3031-4785-9275-06d8ef2fe86f",
   "metadata": {},
   "outputs": [
    {
     "name": "stdout",
     "output_type": "stream",
     "text": [
      "W = tensor([[1., 0., 0.],\n",
      "        [1., 1., 0.],\n",
      "        [1., 1., 1.]])\n",
      "\n",
      "X_i = tensor([[ 3.,  5.],\n",
      "        [ 8., 10.],\n",
      "        [ 6.,  2.]])\n",
      "\n",
      "Z_i = tensor([[ 3.,  5.],\n",
      "        [11., 15.],\n",
      "        [17., 17.]])\n"
     ]
    }
   ],
   "source": [
    "# We want to create a transformation matrix that for each token, collects information for all \n",
    "# the previous tokens in the sequence.\n",
    "# Let's assume that emb_size = 2, and block_size=3\n",
    "# If we have a matrix \n",
    "#     \n",
    "# W = [[ 1, 0, 0]\n",
    "#      [ 1, 1, 0]\n",
    "#      [ 1, 1, 1]]\n",
    "#\n",
    "# and sample X_i representing a sequence of tokens of size emb size\n",
    "#\n",
    "# X_i =[[ 3, 5]       # token at time 0\n",
    "#       [ 8, 10]      # token at time 1\n",
    "#       [ 6, 2]]      # token at time 2\n",
    "#\n",
    "# then if we perform a matrix multiplication between W and  and X_i\n",
    "# we obtain \n",
    "#\n",
    "# Z_i = [[ 3, 5]      # token at time 0\n",
    "#        [11, 15]     # token at time 1\n",
    "#        [17, 17]]    # token at time 2\n",
    "# \n",
    "# where the token at time j is obtained by summing al the tokens until time j included.\n",
    "\n",
    "W = torch.tril(torch.ones((3,3)))\n",
    "print(f'W = {W}')\n",
    "\n",
    "X_i = torch.tensor([[ 3, 5],\n",
    "                    [ 8, 10],\n",
    "                    [ 6, 2]] ).float()\n",
    "print()\n",
    "print(f'X_i = {X_i}')\n",
    "\n",
    "Z_i = W @ X_i\n",
    "print()\n",
    "print(f'Z_i = {Z_i}')"
   ]
  },
  {
   "cell_type": "code",
   "execution_count": 274,
   "id": "0b63784b-a3aa-49f1-ab4d-dc29e294a219",
   "metadata": {},
   "outputs": [
    {
     "name": "stdout",
     "output_type": "stream",
     "text": [
      "W = tensor([[1.0000, 0.0000, 0.0000],\n",
      "        [0.5000, 0.5000, 0.0000],\n",
      "        [0.3333, 0.3333, 0.3333]])\n",
      "\n",
      "X_i = tensor([[ 3.,  5.],\n",
      "        [ 8., 10.],\n",
      "        [ 6.,  2.]])\n",
      "\n",
      "Z_i = tensor([[3.0000, 5.0000],\n",
      "        [5.5000, 7.5000],\n",
      "        [5.6667, 5.6667]])\n"
     ]
    }
   ],
   "source": [
    "# Since we want merge into each time step the knowledge from the previous time steps\n",
    "# a simple mean would be more appropriate than a sum\n",
    "W = torch.tril(torch.ones((3,3))) \n",
    "W /= W.sum(axis=1, keepdims=True)\n",
    "print(f'W = {W}')\n",
    "\n",
    "X_i = torch.tensor([[ 3, 5],\n",
    "                    [ 8, 10],\n",
    "                    [ 6, 2]] ).float()\n",
    "print()\n",
    "print(f'X_i = {X_i}')\n",
    "\n",
    "Z_i = W @ X_i\n",
    "print()\n",
    "print(f'Z_i = {Z_i}')"
   ]
  },
  {
   "cell_type": "code",
   "execution_count": 277,
   "id": "ccafba02-3ccc-4fb6-b2ce-93531dff7633",
   "metadata": {},
   "outputs": [
    {
     "name": "stdout",
     "output_type": "stream",
     "text": [
      "W = tensor([[1.0000,   -inf,   -inf],\n",
      "        [0.5000, 0.5000,   -inf],\n",
      "        [0.3333, 0.3333, 0.3333]])\n",
      "\n",
      "X_i = tensor([[ 3.,  5.],\n",
      "        [ 8., 10.],\n",
      "        [ 6.,  2.]])\n",
      "\n",
      "Z_i = tensor([[3.0000, 5.0000],\n",
      "        [5.5000, 7.5000],\n",
      "        [5.6667, 5.6667]])\n"
     ]
    }
   ],
   "source": [
    "# In practice we want to be able to learn the matrix W by backpropagation, and not set them manually.\n",
    "# If we start from a triangular matrix, and keep updating it through backpropagation, there is no\n",
    "# guarantee that zeros will stay 0.\n",
    "# One trick to keep the triangular shape of the matrix is to replace the zeros with -inf:\n",
    "#   - no amount of change will change the -inf\n",
    "#   - when, eventually, applying a softmax to the result the -inf values will become zeros\n",
    "\n",
    "W = torch.tril(torch.ones((3,3))) \n",
    "W /= W.sum(axis=1, keepdims=True)\n",
    "W[W == 0.] = -torch.inf\n",
    "print(f'W = {W}')\n",
    "\n",
    "X_i = torch.tensor([[ 3, 5],\n",
    "                    [ 8, 10],\n",
    "                    [ 6, 2]] ).float()\n",
    "print()\n",
    "print(f'X_i = {X_i}')\n",
    "\n",
    "Z_i = W.softmax(axis=1) @ X_i\n",
    "print()\n",
    "print(f'Z_i = {Z_i}')"
   ]
  },
  {
   "cell_type": "code",
   "execution_count": 393,
   "id": "86ee1ef9-fafb-447c-9ce8-aec0082585cd",
   "metadata": {},
   "outputs": [
    {
     "name": "stdout",
     "output_type": "stream",
     "text": [
      "Q.shape = torch.Size([40, 10])\n",
      "K.shape = torch.Size([40, 10])\n",
      "W.shape = torch.Size([40, 40])\n"
     ]
    },
    {
     "data": {
      "text/plain": [
       "'\\na = torch.randn(50,100)\\nprint(a.std(axis= 1).mean())\\nb = torch.randn(50,100)\\nprint(b.std(axis= 1).mean())\\nab = (a @ b.T) \\nprint(ab.std(axis= 1).mean())\\nab_norm = ab * 100**-0.5\\nprint(ab_norm.std(axis= 1).mean())\\n'"
      ]
     },
     "execution_count": 393,
     "metadata": {},
     "output_type": "execute_result"
    },
    {
     "data": {
      "image/png": "[encoded data removed]",
      "text/plain": [
       "<Figure size 1200x600 with 2 Axes>"
      ]
     },
     "metadata": {},
     "output_type": "display_data"
    }
   ],
   "source": [
    "# In the transformer architecture the matrix W of size (context_size, context_size) is not a raw parameter,\n",
    "# but rather the result of some computations.\n",
    "# The matrix X_e, of size (context_size, emb_size) where each row is a token in the space of size emb_size\n",
    "# is first projected  into a smaller space of size head_size. \n",
    "# This projection is a actually repeated three times to obtain matrices with different meanings:\n",
    "#   - The rows of the matrix K represent the information with which a token should be indexed\n",
    "#   - The rows of the matrix Q represent the information that a token is interested in\n",
    "#   - The rows of the matrix V are projections of X_e that contains the info to be shareds\n",
    "#\n",
    "# When multiplying  matrix K of size (context_size, emb_size) and the transposse of Q\n",
    "# of size (context_size, emb_size) we obtain a matrix of size (context_size, context_size)\n",
    "# where the element at position (i,j) represents the amount of information that needs to be\n",
    "# shared from token at position j to the token at position i.\n",
    "# This matrix has the same shape and function as the matrix W discussed before.\n",
    "# Adding a softmax operation we can obtain a matrix where each row is a probability distribution,\n",
    "# and the element (i,j) gives us exactly the fraction of the token j that we want to transfer \n",
    "# to the token i.\n",
    "#\n",
    "# The last steps to perform is multilplying the self-attention matrix W by the input to operate the transfer \n",
    "# of information among tokens.\n",
    "# This operation is performed in a space of size head_size, using the projected matrix V, \n",
    "# instead of the original matrix X_e.\n",
    "#\n",
    "#  The result of the attention mechanism is thus:\n",
    "#   Z = softmax(Q x K.T) x V\n",
    "#\n",
    "#  The only detail remaining is the the normalization of the (Q x K.T) matrix to insure that the rows have unit variance.\n",
    "#  If it's not the case (Q x K.T) might contain values that have large magnitude, and after applying the softmax\n",
    "#  operation, the result will tend be a one-hot vector where only 1 or a few elemnts are different from zero,\n",
    "#  while the otheres will be virtually zero.\n",
    "#  Under this situation the attention mechanism will be greatly compromised, as a token will receive information\n",
    "#  only from a handful of tokens in the context.\n",
    "# Ex\n",
    "\n",
    "context_size = 40\n",
    "head_size = 10\n",
    "\n",
    "# Generating Q and k\n",
    "Q = torch.randn(context_size, head_size)\n",
    "print(f'Q.shape = {Q.shape}')\n",
    "K = torch.randn(context_size, head_size)\n",
    "print(f'K.shape = {K.shape}')\n",
    "\n",
    "\n",
    "# Multiplying the Q and K to obtain the W matrix\n",
    "W = Q @ K.T\n",
    "print(f'W.shape = {W.shape}')\n",
    "\n",
    "# Normalizing with sqrt(head_size)\n",
    "W_norm  = W / head_size**0.5\n",
    "\n",
    "# Compting softmax of bot original and normalized\n",
    "W_soft = W.softmax(axis=1)\n",
    "W_norm_soft = W_norm.softmax(axis=1)\n",
    "\n",
    "# Comparing the weight distribution with, and without normalization\n",
    "fig, (ax0, ax1) = plt.subplots(nrows=1, ncols=2, figsize=(12, 6))\n",
    "ax0.set_title('W without norm')\n",
    "ax0.imshow(W_soft)\n",
    "ax1.set_title('W with Norm')\n",
    "ax1.imshow(W_norm_soft)\n",
    "\n",
    "\n",
    "'''\n",
    "a = torch.randn(50,100)\n",
    "print(a.std(axis= 1).mean())\n",
    "b = torch.randn(50,100)\n",
    "print(b.std(axis= 1).mean())\n",
    "ab = (a @ b.T) \n",
    "print(ab.std(axis= 1).mean())\n",
    "ab_norm = ab * 100**-0.5\n",
    "print(ab_norm.std(axis= 1).mean())\n",
    "'''"
   ]
  },
  {
   "cell_type": "code",
   "execution_count": 436,
   "id": "35993ded-d06c-47a5-9df7-7fe302d76ac3",
   "metadata": {},
   "outputs": [],
   "source": [
    "# Predicts next character using all previous characters\n",
    "\n",
    "class TransformerLanguageModel(nn.Module):\n",
    "\n",
    "    def __init__(self, vocab_size, emb_size, block_size, head_size):\n",
    "        super().__init__()\n",
    "\n",
    "        self.block_size = block_size\n",
    "\n",
    "        # A table mapping the index of each character, to an embedding vector X_e_0 of size emb_size\n",
    "        self.E = nn.Embedding(vocab_size, emb_size)\n",
    "\n",
    "        # # A table mapping the position of each character, to an embedding vector X_e_0 of size emb_size\n",
    "        self.P = nn.Embedding(block_size, emb_size)\n",
    "\n",
    "        # The transformations mapping X_e to a space of size head_size.\n",
    "        # X_e is a \"private\" representation of a token.\n",
    "        # From this vector we can project different  representations\n",
    "        #   - K => represents the information that X_e could provide (KEY)\n",
    "        #   - Q => represents the information that X_e might require (QUERY)\n",
    "        #   - V => represents the information that X_e will actually provide (VALUE)\n",
    "        self.W_k = nn.Linear(emb_size, head_size)\n",
    "        self.W_q = nn.Linear(emb_size, head_size)\n",
    "        self.W_v = nn.Linear(emb_size, head_size)\n",
    "        \n",
    "        # Output layer to produce the logits\n",
    "        self.output_layer = nn.Linear(head_size, vocab_size)\n",
    "        \n",
    "\n",
    "    def forward(self, X, y=None):\n",
    "\n",
    "        # Transforming the input indices to embedding vectors\n",
    "        # The shape of the input is (batch_size, block_size)\n",
    "        # The shape of the output is (batch_size, block_size, emb_size)\n",
    "        X_e_0 = self.E(X)\n",
    "\n",
    "        # Transforming the input indices to embedding vectors\n",
    "        # The shape of the input is (block_size)\n",
    "        # The shape of the output is (block_size, emb_size)\n",
    "        X_pos = torch.arange(0, self.block_size)  # creating matrix with positions: [0, 1, ...]\n",
    "        X_e_1 = self.P(X_pos)   \n",
    "\n",
    "        # Adding together the embedding vectors\n",
    "        # The shape of X_e_0 is (batch_size, block_size, emb_size)\n",
    "        # The shape of X_e_1 is  (block_size, emb_size)\n",
    "        # (Broadcasting will make the operation possible)\n",
    "        # The shape of the output is (batch_size, block_size, emb_size)\n",
    "        X_e = X_e_0 + X_e_1\n",
    "\n",
    "\n",
    "        # Projecting the embedding vector X_e to obtain K, Q, V in the space of size head_size\n",
    "        K = self.W_k(X_e)\n",
    "        Q = self.W_q(X_e)\n",
    "        V = self.W_v(X_e)\n",
    "\n",
    "        # Matrix providing the attention mechanism\n",
    "        # - It is obtained comparing one by one, the rows of K with the rows of Q\n",
    "        # - The scalar product between the i-th row of K and j-th row of Q represents\n",
    "        #   the 'affinity' between the token at position i and the token at position j\n",
    "        # - We divide by sqrt(emb_size) to ensure that the rows have unit variance\n",
    "        # - We mask it with a triangular matrix to avoid contamination from tokens \n",
    "        #   in the future\n",
    "        W  = torch.tril(Q @ K.transpose(1,2))  # we transpose only the last 2 dims. 1st dim is batch \n",
    "        W /= W.sum(axis=1, keepdims=True)\n",
    "        W[W == 0.] = -torch.inf\n",
    "\n",
    "        # Applying attention mechanism to get info from previous steps in the block\n",
    "        # The mechanism is applied to the projection V\n",
    "        X_a = W.softmax(axis=1) @ V\n",
    "        \n",
    "        # Extracting the logits of the next character, for each character in the input\n",
    "        # The shape of the input is (batch_size, block_size, emb_size)\n",
    "        # The shape of the output is (batch_size, block_size, vocab_size)\n",
    "        logits = self.output_layer(X_a)\n",
    "\n",
    "        # computing loss, only when a target y is provided\n",
    "        if y is not None:\n",
    "            # reshaping logits, and target to match the expected shapes of the cross_entropy function\n",
    "            batch_size, block_size, vocab_size = logits.shape\n",
    "            logits = logits.view((batch_size*block_size, vocab_size))\n",
    "            y = y.view(batch_size*block_size)\n",
    "            \n",
    "            # computing the loss\n",
    "            loss = F.cross_entropy(logits, y)\n",
    "        else:\n",
    "            loss = None\n",
    "\n",
    "        return logits, loss\n",
    "\n",
    "    def generate(self, X, max_length=100):\n",
    "\n",
    "        # initilizing the result\n",
    "        res = X.clone()\n",
    "\n",
    "        for i in range(max_length):\n",
    "            # performing a forward pass\n",
    "            logits, loss = self.forward(X)\n",
    "    \n",
    "            # condsidering only the last character of each sequence\n",
    "            logits = logits[:, -1, :]\n",
    "    \n",
    "            # computing probs, from the logits\n",
    "            probs = logits.softmax(dim=-1)\n",
    "    \n",
    "            # sampling from the probability distributions\n",
    "            new_element = torch.multinomial(probs, 1)\n",
    "    \n",
    "            # attaching the new elements to the context\n",
    "            # and excluding the oldest element\n",
    "            X = torch.concat((X[:, 1:], new_element), axis=1)\n",
    "\n",
    "            # Storing the generated element\n",
    "            res = torch.concat((res, new_element), axis=1)\n",
    "\n",
    "        # Decoding the generated sequences\n",
    "        res = [decode(res[i].tolist()) for i in range(res.shape[0]) ]\n",
    "\n",
    "        return res"
   ]
  },
  {
   "cell_type": "code",
   "execution_count": 437,
   "id": "b029c013-ed66-47dc-bce3-67c7aed3e549",
   "metadata": {},
   "outputs": [
    {
     "data": {
      "text/plain": [
       "(torch.Size([32, 65]), tensor(4.2521, grad_fn=<NllLossBackward0>))"
      ]
     },
     "execution_count": 437,
     "metadata": {},
     "output_type": "execute_result"
    }
   ],
   "source": [
    "emb_size = 32\n",
    "head_size = 16\n",
    "m1 = TransformerLanguageModel(vocab_size, emb_size, block_size, head_size)\n",
    "logits, loss = m1(x_train, y_train)\n",
    "logits.shape, loss"
   ]
  },
  {
   "cell_type": "code",
   "execution_count": 441,
   "id": "b4a1eac8-4059-4614-ab98-d50f883970cc",
   "metadata": {},
   "outputs": [
    {
     "name": "stdout",
     "output_type": "stream",
     "text": [
      "3.0635299682617188\n",
      "3.199181318283081\n",
      "3.0119805335998535\n",
      "2.7662734985351562\n",
      "2.8942482471466064\n",
      "2.9732120037078857\n",
      "2.321126937866211\n",
      "2.5919036865234375\n",
      "2.54081392288208\n",
      "2.6982009410858154\n"
     ]
    }
   ],
   "source": [
    "# Training a model with Adam Optimizer\n",
    "optimizer1 = torch.optim.Adam(m1.parameters(), lr=10**(-3))\n",
    "\n",
    "steps = 100000\n",
    "for i in range(steps):\n",
    "\n",
    "    # generating a random batch\n",
    "    X_b, y_b = get_batch(data_train, batch_size, block_size)\n",
    "\n",
    "    # forward pass\n",
    "    logits, loss = m1(X_b, y_b)\n",
    "\n",
    "    # bacward pass\n",
    "    optimizer1.zero_grad(set_to_none=True)\n",
    "    loss.backward()\n",
    "    optimizer1.step()\n",
    "\n",
    "    # printing at 10% intervals\n",
    "    if i % int(steps / 10) == 0:\n",
    "        print(loss.item())"
   ]
  },
  {
   "cell_type": "code",
   "execution_count": 442,
   "id": "1dc43da8-3e0f-4825-89d3-8535363e8f1d",
   "metadata": {},
   "outputs": [
    {
     "name": "stdout",
     "output_type": "stream",
     "text": [
      "\n",
      "\n",
      "\n",
      "\n",
      "\n",
      "\n",
      "\n",
      "\n",
      "LALDBUCE:\n",
      "TSextotur.\n",
      "\n",
      "QUESENO:\n",
      "WAMNIUS:\n",
      "OLANUT:\n",
      "HAs!\n",
      "F RIORI:\n",
      "Y:\n",
      "B\n",
      "Frot athe ize emat anpry ourscofuthe ancer fello me mbeigclane.\n",
      "To hend atind me way thewine'ss, t hislis, ont hetes psatithe imens:\n",
      "\n",
      "Fretre me hom evine dextewe anghat eringe cemer inche my of, wero wacthe orfer mor omy thatis, me w\n"
     ]
    }
   ],
   "source": [
    "# Generating sequence from TRAINED model\n",
    "\n",
    "# creating initial context\n",
    "context = torch.zeros((1, block_size)).int()\n",
    "\n",
    "# generating sequence of arbitrary length \n",
    "res = m1.generate(context, max_length=300)\n",
    "\n",
    "print(res[0])"
   ]
  },
  {
   "cell_type": "code",
   "execution_count": null,
   "id": "b51e076a-9a79-4812-96b3-80d6b7df3ad1",
   "metadata": {},
   "outputs": [],
   "source": []
  }
 ],
 "metadata": {
  "kernelspec": {
   "display_name": "Python 3 (ipykernel)",
   "language": "python",
   "name": "python3"
  },
  "language_info": {
   "codemirror_mode": {
    "name": "ipython",
    "version": 3
   },
   "file_extension": ".py",
   "mimetype": "text/x-python",
   "name": "python",
   "nbconvert_exporter": "python",
   "pygments_lexer": "ipython3",
   "version": "3.10.6"
  }
 },
 "nbformat": 4,
 "nbformat_minor": 5
}
