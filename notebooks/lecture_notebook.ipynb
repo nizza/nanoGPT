{
 "cells": [
  {
   "cell_type": "code",
   "execution_count": 1,
   "id": "45feaa06-246d-4db5-b396-4ae03955cf96",
   "metadata": {},
   "outputs": [],
   "source": [
    "import os\n",
    "import requests\n",
    "import torch\n",
    "import torch.nn as nn\n",
    "import torch.nn.functional as F"
   ]
  },
  {
   "cell_type": "code",
   "execution_count": 2,
   "id": "e834f670-8e0a-42c9-8feb-0fe693496976",
   "metadata": {},
   "outputs": [],
   "source": [
    "import matplotlib.pyplot as plt\n",
    "%matplotlib inline"
   ]
  },
  {
   "cell_type": "code",
   "execution_count": 3,
   "id": "6184f154-2ef6-4b70-b7e1-6611c9157be2",
   "metadata": {},
   "outputs": [],
   "source": [
    "use_GPU = False"
   ]
  },
  {
   "cell_type": "code",
   "execution_count": 4,
   "id": "b2b68ac8-c953-4616-aea1-27f75e27962a",
   "metadata": {},
   "outputs": [
    {
     "name": "stdout",
     "output_type": "stream",
     "text": [
      "Using CPU.\n"
     ]
    }
   ],
   "source": [
    "if use_GPU:\n",
    "    if torch.backends.mps.is_available():\n",
    "        device = torch.device(\"mps\")\n",
    "        print (\"MPS device available.\")\n",
    "    else:\n",
    "        device = torch.device(\"cpu\")\n",
    "        print (\"MPS device not found. Using CPU.\")\n",
    "else:\n",
    "    device = torch.device(\"cpu\")\n",
    "    print (\"Using CPU.\")"
   ]
  },
  {
   "cell_type": "markdown",
   "id": "c75f91d4-59c4-4327-b3d3-eeb2c4f1a95a",
   "metadata": {},
   "source": [
    "# Reading the data"
   ]
  },
  {
   "cell_type": "code",
   "execution_count": 5,
   "id": "9bf124b6-cf70-4fbf-aea1-45aaadb412f9",
   "metadata": {},
   "outputs": [],
   "source": [
    "# Downloading the file\n",
    "filepath = '../data/input.txt'\n",
    "if not os.path.exists(filepath):\n",
    "    data_url = 'https://raw.githubusercontent.com/karpathy/char-rnn/master/data/tinyshakespeare/input.txt'\n",
    "    with open(filepath, 'w', encoding='utf-8') as f:\n",
    "        f.write(requests.get(data_url).text)"
   ]
  },
  {
   "cell_type": "code",
   "execution_count": 6,
   "id": "7b7cb886-719a-4eea-b5aa-c8bd73c9ab86",
   "metadata": {},
   "outputs": [
    {
     "name": "stdout",
     "output_type": "stream",
     "text": [
      "First Citizen:\n",
      "Before we proceed any further, hear me speak.\n",
      "\n",
      "All:\n",
      "Speak, speak.\n",
      "\n",
      "First Citizen:\n",
      "You\n"
     ]
    }
   ],
   "source": [
    "# Reading the file\n",
    "with open(filepath) as f:\n",
    "    raw_text = f.read()\n",
    "\n",
    "print(raw_text[:100])"
   ]
  },
  {
   "cell_type": "code",
   "execution_count": 7,
   "id": "08dcb2b1-5a22-402d-90b6-0b08a09d10b0",
   "metadata": {},
   "outputs": [
    {
     "name": "stdout",
     "output_type": "stream",
     "text": [
      "1115394\n"
     ]
    }
   ],
   "source": [
    "print(len(raw_text))"
   ]
  },
  {
   "cell_type": "code",
   "execution_count": 8,
   "id": "448f2fc4-c7a1-4907-800a-3ad80ca94483",
   "metadata": {},
   "outputs": [
    {
     "name": "stdout",
     "output_type": "stream",
     "text": [
      "vocab_size: 65\n",
      "encode.    hello   => [46, 43, 50, 50, 53, 2]\n",
      "decode.    [46, 43, 50, 50, 53, 2]   => hello!\n"
     ]
    }
   ],
   "source": [
    "\n",
    "# ordered list of all characters in the corpus\n",
    "vocab = sorted(list(set(raw_text)))\n",
    "vocab_size = len(vocab)\n",
    "print(f'vocab_size: {vocab_size}')\n",
    "\n",
    "# dictionaries to convert chars to ints, and viceversa\n",
    "itos = {i:v for i,v in enumerate(vocab)}\n",
    "stoi = {v:i for i,v in enumerate(vocab)}\n",
    "\n",
    "# functions to tokenize sequences of arbitrary length\n",
    "encode = lambda x : [stoi[s] for s in x]\n",
    "decode = lambda x : ''.join([itos[i] for i in x])\n",
    "\n",
    "hello_encoded = encode('hello!')\n",
    "hello_decoded = decode(hello_encoded)\n",
    "print(f'encode.    hello   => {hello_encoded}')\n",
    "print(f'decode.    {hello_encoded}   => {hello_decoded}')"
   ]
  },
  {
   "cell_type": "code",
   "execution_count": 9,
   "id": "cdda0100-1254-4c05-831b-cbc55704ef28",
   "metadata": {},
   "outputs": [
    {
     "data": {
      "text/plain": [
       "torch.Size([1115394])"
      ]
     },
     "execution_count": 9,
     "metadata": {},
     "output_type": "execute_result"
    }
   ],
   "source": [
    "# Tokenizing the text an creating a numerical tensor\n",
    "token_text = torch.tensor(encode(raw_text))\n",
    "token_text.shape"
   ]
  },
  {
   "cell_type": "code",
   "execution_count": 10,
   "id": "de3660e2-505c-4400-b2b2-be7e7ff3a20a",
   "metadata": {},
   "outputs": [
    {
     "name": "stdout",
     "output_type": "stream",
     "text": [
      "torch.Size([1003854]) torch.Size([111540])\n"
     ]
    }
   ],
   "source": [
    "# Splitting data in train, val\n",
    "train_size = int(0.9 * len(token_text))\n",
    "data_train = token_text[:train_size]\n",
    "data_val = token_text[train_size:]\n",
    "print(data_train.shape, data_val.shape)"
   ]
  },
  {
   "cell_type": "code",
   "execution_count": 11,
   "id": "c3cadc9a-c803-4502-9d70-195be9579e47",
   "metadata": {},
   "outputs": [],
   "source": [
    "data_train = data_train.to(device)"
   ]
  },
  {
   "cell_type": "code",
   "execution_count": 12,
   "id": "ddddde4b-7ceb-4a1f-b16c-92426f0fdc15",
   "metadata": {},
   "outputs": [],
   "source": [
    "# Preparing training batches\n",
    "\n",
    "torch.manual_seed(1337)\n",
    "\n",
    "batch_size = 4   # the number of sample processed in the same batch\n",
    "block_size = 8   # the length of the sequence of character used by the model to predict the next character\n",
    "\n",
    "def get_batch(data, batch_size, block_size, device):\n",
    "\n",
    "    # generating the start index of  batch_size independent samples\n",
    "    idx = torch.randint(len(data)-block_size, (batch_size,), device=device)\n",
    "\n",
    "    # extracting the xi, each having block_size elements\n",
    "    x = torch.stack([data[i:i+block_size] for i in idx])\n",
    "    #print(x.device)\n",
    "\n",
    "    # extracting the yi, the next characters\n",
    "    y = torch.stack([data[i+1:i+1+block_size] for i in idx]) \n",
    "\n",
    "    # moving tensors to device\n",
    "    #x, y = x.to(device), y.to(device)\n",
    "    #x, y = x.pin_memory().to(device, non_blocking=True), y.pin_memory().to(device, non_blocking=True)\n",
    "    \n",
    "    return x, y\n",
    "\n",
    "x_train, y_train = get_batch(data_train, batch_size, block_size, device)"
   ]
  },
  {
   "cell_type": "code",
   "execution_count": 13,
   "id": "827aa29d-d78a-453e-b8eb-10ead4940dfc",
   "metadata": {},
   "outputs": [
    {
     "data": {
      "text/plain": [
       "device(type='cpu')"
      ]
     },
     "execution_count": 13,
     "metadata": {},
     "output_type": "execute_result"
    }
   ],
   "source": [
    "x_train.device"
   ]
  },
  {
   "cell_type": "code",
   "execution_count": 14,
   "id": "27b3adf4-c2e5-4c8b-9d87-8aac37f8e92b",
   "metadata": {},
   "outputs": [],
   "source": [
    "# Preparing the validation data\n",
    "X_val, y_val = get_batch(data_val, data_val.shape[0], block_size, device)"
   ]
  },
  {
   "cell_type": "code",
   "execution_count": 15,
   "id": "2c7f158e-8dfb-4ee6-8deb-2d83564a0553",
   "metadata": {},
   "outputs": [
    {
     "name": "stdout",
     "output_type": "stream",
     "text": [
      "torch.Size([4, 8])\n",
      "tensor([[24, 43, 58,  5, 57,  1, 46, 43],\n",
      "        [44, 53, 56,  1, 58, 46, 39, 58],\n",
      "        [52, 58,  1, 58, 46, 39, 58,  1],\n",
      "        [25, 17, 27, 10,  0, 21,  1, 54]])\n",
      "\n",
      "torch.Size([4, 8])\n",
      "tensor([[43, 58,  5, 57,  1, 46, 43, 39],\n",
      "        [53, 56,  1, 58, 46, 39, 58,  1],\n",
      "        [58,  1, 58, 46, 39, 58,  1, 46],\n",
      "        [17, 27, 10,  0, 21,  1, 54, 39]])\n"
     ]
    }
   ],
   "source": [
    "print(x_train.shape)\n",
    "print(x_train)\n",
    "print()\n",
    "print(y_train.shape)\n",
    "print(y_train)"
   ]
  },
  {
   "cell_type": "markdown",
   "id": "f78f6934-a4aa-42ef-aa38-4095a1f10dc1",
   "metadata": {},
   "source": [
    "# Creating models"
   ]
  },
  {
   "cell_type": "markdown",
   "id": "705c2bc9-e0d6-4ca6-8ce0-1cdef5522800",
   "metadata": {},
   "source": [
    "## Bigram model\n"
   ]
  },
  {
   "cell_type": "code",
   "execution_count": 16,
   "id": "5ba49595-2bc7-4d7e-85c3-701e994048e8",
   "metadata": {},
   "outputs": [],
   "source": [
    "# Predicts next character using only the previous character\n",
    "\n",
    "class BigramLanguageModel(nn.Module):\n",
    "\n",
    "    def __init__(self, vocab_size):\n",
    "        super().__init__()\n",
    "\n",
    "        # A table mapping the index of each character, to the logits distribution of the next character\n",
    "        # The element E[i,j] represent the logit associated to next character being j, when the current \n",
    "        # character is i\n",
    "        self.E = nn.Embedding(vocab_size, vocab_size)\n",
    "\n",
    "    def forward(self, X, y=None):\n",
    "\n",
    "        # extracting the logits of the next character, for each character in the input\n",
    "        # The shape of the input is (batch_size, block_size)\n",
    "        # The shape of the output is (batch_size, block_size, vocab_size)\n",
    "        logits = self.E(X)\n",
    "\n",
    "        # computing loss, only when a target y is provided\n",
    "        if y is not None:\n",
    "            # reshaping logits, and target to match the expected shapes of the cross_entropy function\n",
    "            batch_size, block_size, vocab_size = logits.shape\n",
    "            logits = logits.view((batch_size*block_size, vocab_size))\n",
    "            y = y.view(batch_size*block_size)\n",
    "            \n",
    "            # computing the loss\n",
    "            loss = F.cross_entropy(logits, y)\n",
    "        else:\n",
    "            loss = None\n",
    "\n",
    "        return logits, loss\n",
    "\n",
    "    def generate(self, X, max_length=100):\n",
    "\n",
    "        for i in range(max_length):\n",
    "            # performing a forward pass\n",
    "            logits, loss = self.forward(X)\n",
    "    \n",
    "            # condsidering only the last character of each sequence\n",
    "            logits = logits[:, -1, :]\n",
    "    \n",
    "            # computing probs, from the logits\n",
    "            probs = logits.softmax(dim=-1)\n",
    "    \n",
    "            # sampling from the probability distributions\n",
    "            new_element = torch.multinomial(probs, 1)\n",
    "    \n",
    "            # attaching the new elements to the context\n",
    "            X = torch.concat((X, new_element), axis=1)\n",
    "\n",
    "        # Decoding the generated sequences\n",
    "        res = [decode(X[i].tolist()) for i in range(X.shape[0]) ]\n",
    "\n",
    "        return res"
   ]
  },
  {
   "cell_type": "code",
   "execution_count": 17,
   "id": "e164e577-5b86-403c-ad07-e01e25e6d903",
   "metadata": {},
   "outputs": [
    {
     "data": {
      "text/plain": [
       "(torch.Size([32, 65]), tensor(4.6161, grad_fn=<NllLossBackward0>))"
      ]
     },
     "execution_count": 17,
     "metadata": {},
     "output_type": "execute_result"
    }
   ],
   "source": [
    "m = BigramLanguageModel(vocab_size)\n",
    "logits, loss = m(x_train, y_train)\n",
    "logits.shape, loss"
   ]
  },
  {
   "cell_type": "code",
   "execution_count": 18,
   "id": "724f4af3-bd59-4db4-9119-faee516b875e",
   "metadata": {},
   "outputs": [
    {
     "name": "stdout",
     "output_type": "stream",
     "text": [
      "\n",
      "i,rrPAUpt$ZA.!v!FwnToT;jo\n",
      "bn-lx:co$SfhlLPXWEuxJXopRjyXIKFlCjFCGgX$'PV-G;VDrMCCsT?WakygEz3kncyDvwhbNr\n"
     ]
    }
   ],
   "source": [
    "# Generating sequence from UNTRAINED model\n",
    "\n",
    "# creating initial context\n",
    "context = torch.zeros((1, 1)).int()\n",
    "\n",
    "# generating sequence of arbitrary length \n",
    "res = m.generate(context, max_length=100)\n",
    "\n",
    "print(res[0])"
   ]
  },
  {
   "cell_type": "code",
   "execution_count": 21,
   "id": "4f0b7d6f-0917-4012-bd59-2a0e1785ef96",
   "metadata": {},
   "outputs": [
    {
     "name": "stdout",
     "output_type": "stream",
     "text": [
      "TRAINING\n",
      "4.9710493087768555\n",
      "2.2749061584472656\n",
      "2.069427251815796\n",
      "2.72166109085083\n",
      "2.6071584224700928\n",
      "2.0997016429901123\n",
      "2.4455082416534424\n",
      "2.4198312759399414\n",
      "2.3851704597473145\n",
      "2.281238317489624\n",
      "\n",
      "VALIDATION\n",
      "tensor(2.5036, grad_fn=<NllLossBackward0>)\n"
     ]
    }
   ],
   "source": [
    "# Training a model with Adam Optimizer\n",
    "optimizer = torch.optim.Adam(m.parameters(), lr=10**(-3))\n",
    "\n",
    "print('TRAINING')\n",
    "steps = 100000\n",
    "for i in range(steps):\n",
    "\n",
    "    # generating a random batch\n",
    "    X_b, y_b = get_batch(data_train, batch_size, block_size, device)\n",
    "\n",
    "    # forward pass\n",
    "    logits, loss = m(X_b, y_b)\n",
    "\n",
    "    # bacward pass\n",
    "    optimizer.zero_grad(set_to_none=True)\n",
    "    loss.backward()\n",
    "    optimizer.step()\n",
    "\n",
    "    # printing at 10% intervals\n",
    "    if i % int(steps / 10) == 0:\n",
    "        print(loss.item())\n",
    "\n",
    "print()\n",
    "print('VALIDATION')\n",
    "logits, loss = m(X_val, y_val)\n",
    "print(loss)"
   ]
  },
  {
   "cell_type": "code",
   "execution_count": 22,
   "id": "63dbe722-fb69-44c6-98f7-df2df2c44c17",
   "metadata": {},
   "outputs": [
    {
     "name": "stdout",
     "output_type": "stream",
     "text": [
      "\n",
      "Whe s nde irand.\n",
      "T:\n",
      "ON 'stavend bed rdowortis s-seravef dwis.\n",
      "tht uthast d, w, is to od, an!\n",
      "\n",
      "WAST: hot chis;\n",
      "RKINouthorerts m murs o s acomyoo fre.\n",
      "Whorfres l weend s and morur bre s s e'thanertrodwha h! as nd d forosthithaly mofrt,\n",
      "\n",
      "\n",
      "VOLOROFawheam or s arintheey\n",
      "\n",
      "JUM:\n",
      "CIfere whetarsuind t hofen f SCHAUSofond y thes we n-\n",
      "\n",
      "Sou Hathe\n",
      "'toulle idat! fif? mert,\n",
      "\n",
      "'sthoo.\n",
      "Sould CLLiss\n",
      "\n",
      "\n",
      "Th!\n",
      "IUCA ty blland bu I'st him.\n",
      "\n",
      "Th bllinsindofr nor fr LUpr beweme\n",
      "ANGRD buret Ne rt k minewarthe.\n",
      "\n",
      "\n",
      "Ayowise t I b\n"
     ]
    }
   ],
   "source": [
    "# Generating sequence from TRAINED model\n",
    "\n",
    "# creating initial context\n",
    "context = torch.zeros((1, 1)).int()\n",
    "\n",
    "# generating sequence of arbitrary length \n",
    "res = m.generate(context, max_length=500)\n",
    "\n",
    "print(res[0])"
   ]
  },
  {
   "cell_type": "markdown",
   "id": "6406f0ee-800e-4ddd-b9e5-f28520bf56aa",
   "metadata": {},
   "source": [
    "## Transformer model"
   ]
  },
  {
   "cell_type": "code",
   "execution_count": 23,
   "id": "e6b23776-3031-4785-9275-06d8ef2fe86f",
   "metadata": {},
   "outputs": [
    {
     "name": "stdout",
     "output_type": "stream",
     "text": [
      "W = tensor([[1., 0., 0.],\n",
      "        [1., 1., 0.],\n",
      "        [1., 1., 1.]])\n",
      "\n",
      "X_i = tensor([[ 3.,  5.],\n",
      "        [ 8., 10.],\n",
      "        [ 6.,  2.]])\n",
      "\n",
      "Z_i = tensor([[ 3.,  5.],\n",
      "        [11., 15.],\n",
      "        [17., 17.]])\n"
     ]
    }
   ],
   "source": [
    "# We want to create a transformation matrix that for each token, collects information for all \n",
    "# the previous tokens in the sequence.\n",
    "# Let's assume that emb_size = 2, and block_size=3\n",
    "# If we have a matrix \n",
    "#     \n",
    "# W = [[ 1, 0, 0]\n",
    "#      [ 1, 1, 0]\n",
    "#      [ 1, 1, 1]]\n",
    "#\n",
    "# and sample X_i representing a sequence of tokens of size emb size\n",
    "#\n",
    "# X_i =[[ 3, 5]       # token at time 0\n",
    "#       [ 8, 10]      # token at time 1\n",
    "#       [ 6, 2]]      # token at time 2\n",
    "#\n",
    "# then if we perform a matrix multiplication between W and  and X_i\n",
    "# we obtain \n",
    "#\n",
    "# Z_i = [[ 3, 5]      # token at time 0\n",
    "#        [11, 15]     # token at time 1\n",
    "#        [17, 17]]    # token at time 2\n",
    "# \n",
    "# where the token at time j is obtained by summing al the tokens until time j included.\n",
    "\n",
    "W = torch.tril(torch.ones((3,3)))\n",
    "print(f'W = {W}')\n",
    "\n",
    "X_i = torch.tensor([[ 3, 5],\n",
    "                    [ 8, 10],\n",
    "                    [ 6, 2]] ).float()\n",
    "print()\n",
    "print(f'X_i = {X_i}')\n",
    "\n",
    "Z_i = W @ X_i\n",
    "print()\n",
    "print(f'Z_i = {Z_i}')"
   ]
  },
  {
   "cell_type": "code",
   "execution_count": 24,
   "id": "0b63784b-a3aa-49f1-ab4d-dc29e294a219",
   "metadata": {},
   "outputs": [
    {
     "name": "stdout",
     "output_type": "stream",
     "text": [
      "W = tensor([[1.0000, 0.0000, 0.0000],\n",
      "        [0.5000, 0.5000, 0.0000],\n",
      "        [0.3333, 0.3333, 0.3333]])\n",
      "\n",
      "X_i = tensor([[ 3.,  5.],\n",
      "        [ 8., 10.],\n",
      "        [ 6.,  2.]])\n",
      "\n",
      "Z_i = tensor([[3.0000, 5.0000],\n",
      "        [5.5000, 7.5000],\n",
      "        [5.6667, 5.6667]])\n"
     ]
    }
   ],
   "source": [
    "# Since we want merge into each time step the knowledge from the previous time steps\n",
    "# a simple mean would be more appropriate than a sum\n",
    "W = torch.tril(torch.ones((3,3))) \n",
    "W /= W.sum(axis=1, keepdims=True)\n",
    "print(f'W = {W}')\n",
    "\n",
    "X_i = torch.tensor([[ 3, 5],\n",
    "                    [ 8, 10],\n",
    "                    [ 6, 2]] ).float()\n",
    "print()\n",
    "print(f'X_i = {X_i}')\n",
    "\n",
    "Z_i = W @ X_i\n",
    "print()\n",
    "print(f'Z_i = {Z_i}')"
   ]
  },
  {
   "cell_type": "code",
   "execution_count": 25,
   "id": "ccafba02-3ccc-4fb6-b2ce-93531dff7633",
   "metadata": {},
   "outputs": [
    {
     "name": "stdout",
     "output_type": "stream",
     "text": [
      "W = tensor([[1.0000,   -inf,   -inf],\n",
      "        [0.5000, 0.5000,   -inf],\n",
      "        [0.3333, 0.3333, 0.3333]])\n",
      "\n",
      "X_i = tensor([[ 3.,  5.],\n",
      "        [ 8., 10.],\n",
      "        [ 6.,  2.]])\n",
      "\n",
      "Z_i = tensor([[3.0000, 5.0000],\n",
      "        [5.5000, 7.5000],\n",
      "        [5.6667, 5.6667]])\n"
     ]
    }
   ],
   "source": [
    "# In practice we want to be able to learn the matrix W by backpropagation, and not set them manually.\n",
    "# If we start from a triangular matrix, and keep updating it through backpropagation, there is no\n",
    "# guarantee that zeros will stay 0.\n",
    "# One trick to keep the triangular shape of the matrix is to replace the zeros with -inf:\n",
    "#   - no amount of change will change the -inf\n",
    "#   - when, eventually, applying a softmax to the result the -inf values will become zeros\n",
    "\n",
    "W = torch.tril(torch.ones((3,3))) \n",
    "W /= W.sum(axis=1, keepdims=True)\n",
    "W[W == 0.] = -torch.inf\n",
    "print(f'W = {W}')\n",
    "\n",
    "X_i = torch.tensor([[ 3, 5],\n",
    "                    [ 8, 10],\n",
    "                    [ 6, 2]] ).float()\n",
    "print()\n",
    "print(f'X_i = {X_i}')\n",
    "\n",
    "Z_i = W.softmax(axis=1) @ X_i\n",
    "print()\n",
    "print(f'Z_i = {Z_i}')"
   ]
  },
  {
   "cell_type": "code",
   "execution_count": 26,
   "id": "86ee1ef9-fafb-447c-9ce8-aec0082585cd",
   "metadata": {},
   "outputs": [
    {
     "name": "stdout",
     "output_type": "stream",
     "text": [
      "Q.shape = torch.Size([40, 10])\n",
      "K.shape = torch.Size([40, 10])\n",
      "W.shape = torch.Size([40, 40])\n"
     ]
    },
    {
     "data": {
      "text/plain": [
       "'\\na = torch.randn(50,100)\\nprint(a.std(axis= 1).mean())\\nb = torch.randn(50,100)\\nprint(b.std(axis= 1).mean())\\nab = (a @ b.T) \\nprint(ab.std(axis= 1).mean())\\nab_norm = ab * 100**-0.5\\nprint(ab_norm.std(axis= 1).mean())\\n'"
      ]
     },
     "execution_count": 26,
     "metadata": {},
     "output_type": "execute_result"
    },
    {
     "data": {
      "image/png": "[encoded data removed]",
      "text/plain": [
       "<Figure size 1200x600 with 2 Axes>"
      ]
     },
     "metadata": {},
     "output_type": "display_data"
    }
   ],
   "source": [
    "# In the transformer architecture the matrix W of size (context_size, context_size) is not a raw parameter,\n",
    "# but rather the result of some computations.\n",
    "# The matrix X_e, of size (context_size, emb_size) where each row is a token in the space of size emb_size\n",
    "# is first projected  into a smaller space of size head_size. \n",
    "# This projection is a actually repeated three times to obtain matrices with different meanings:\n",
    "#   - The rows of the matrix K represent the information with which a token should be indexed\n",
    "#   - The rows of the matrix Q represent the information that a token is interested in\n",
    "#   - The rows of the matrix V are projections of X_e that contains the info to be shareds\n",
    "#\n",
    "# When multiplying  matrix K of size (context_size, emb_size) and the transposse of Q\n",
    "# of size (context_size, emb_size) we obtain a matrix of size (context_size, context_size)\n",
    "# where the element at position (i,j) represents the amount of information that needs to be\n",
    "# shared from token at position j to the token at position i.\n",
    "# This matrix has the same shape and function as the matrix W discussed before.\n",
    "# Adding a softmax operation we can obtain a matrix where each row is a probability distribution,\n",
    "# and the element (i,j) gives us exactly the fraction of the token j that we want to transfer \n",
    "# to the token i.\n",
    "#\n",
    "# The last steps to perform is multilplying the self-attention matrix W by the input to operate the transfer \n",
    "# of information among tokens.\n",
    "# This operation is performed in a space of size head_size, using the projected matrix V, \n",
    "# instead of the original matrix X_e.\n",
    "#\n",
    "#  The result of the attention mechanism is thus:\n",
    "#   Z = softmax(Q x K.T) x V\n",
    "#\n",
    "#  The only detail remaining is the the normalization of the (Q x K.T) matrix to insure that the rows have unit variance.\n",
    "#  If it's not the case (Q x K.T) might contain values that have large magnitude, and after applying the softmax\n",
    "#  operation, the result will tend be a one-hot vector where only 1 or a few elemnts are different from zero,\n",
    "#  while the otheres will be virtually zero.\n",
    "#  Under this situation the attention mechanism will be greatly compromised, as a token will receive information\n",
    "#  only from a handful of tokens in the context.\n",
    "# Ex\n",
    "\n",
    "context_size = 40\n",
    "head_size = 10\n",
    "\n",
    "# Generating Q and k\n",
    "Q = torch.randn(context_size, head_size)\n",
    "print(f'Q.shape = {Q.shape}')\n",
    "K = torch.randn(context_size, head_size)\n",
    "print(f'K.shape = {K.shape}')\n",
    "\n",
    "\n",
    "# Multiplying the Q and K to obtain the W matrix\n",
    "W = Q @ K.T\n",
    "print(f'W.shape = {W.shape}')\n",
    "\n",
    "# Normalizing with sqrt(head_size)\n",
    "W_norm  = W / head_size**0.5\n",
    "\n",
    "# Compting softmax of bot original and normalized\n",
    "W_soft = W.softmax(axis=1)\n",
    "W_norm_soft = W_norm.softmax(axis=1)\n",
    "\n",
    "# Comparing the weight distribution with, and without normalization\n",
    "fig, (ax0, ax1) = plt.subplots(nrows=1, ncols=2, figsize=(12, 6))\n",
    "ax0.set_title('W without norm')\n",
    "ax0.imshow(W_soft)\n",
    "ax1.set_title('W with Norm')\n",
    "ax1.imshow(W_norm_soft)\n",
    "\n",
    "\n",
    "'''\n",
    "a = torch.randn(50,100)\n",
    "print(a.std(axis= 1).mean())\n",
    "b = torch.randn(50,100)\n",
    "print(b.std(axis= 1).mean())\n",
    "ab = (a @ b.T) \n",
    "print(ab.std(axis= 1).mean())\n",
    "ab_norm = ab * 100**-0.5\n",
    "print(ab_norm.std(axis= 1).mean())\n",
    "'''"
   ]
  },
  {
   "cell_type": "code",
   "execution_count": 27,
   "id": "35993ded-d06c-47a5-9df7-7fe302d76ac3",
   "metadata": {},
   "outputs": [],
   "source": [
    "# Predicts next character using all previous characters\n",
    "\n",
    "class TransformerLanguageModel(nn.Module):\n",
    "\n",
    "    def __init__(self, vocab_size, emb_size, block_size, head_size):\n",
    "        super().__init__()\n",
    "\n",
    "        self.block_size = block_size\n",
    "\n",
    "        # A table mapping the index of each character, to an embedding vector X_e_0 of size emb_size\n",
    "        self.E = nn.Embedding(vocab_size, emb_size)\n",
    "\n",
    "        # # A table mapping the position of each character, to an embedding vector X_e_1 of size emb_size\n",
    "        self.P = nn.Embedding(block_size, emb_size)\n",
    "\n",
    "        # The transformations mapping X_e to a space of size head_size.\n",
    "        # X_e is a \"private\" representation of a token.\n",
    "        # From this vector we can project different  representations\n",
    "        #   - K => represents the information that X_e could provide (KEY)\n",
    "        #   - Q => represents the information that X_e might require (QUERY)\n",
    "        #   - V => represents the information that X_e will actually provide (VALUE)\n",
    "        self.W_k = nn.Linear(emb_size, head_size)\n",
    "        self.W_q = nn.Linear(emb_size, head_size)\n",
    "        self.W_v = nn.Linear(emb_size, head_size)\n",
    "        \n",
    "        # Output layer to produce the logits\n",
    "        self.output_layer = nn.Linear(head_size, vocab_size)\n",
    "        \n",
    "\n",
    "    def forward(self, X, y=None):\n",
    "\n",
    "        # Transforming the input indices to embedding vectors\n",
    "        # The shape of the input is (batch_size, block_size)\n",
    "        # The shape of the output is (batch_size, block_size, emb_size)\n",
    "        X_e_0 = self.E(X)\n",
    "\n",
    "        # Transforming the input indices to embedding vectors\n",
    "        # The shape of the input is (block_size)\n",
    "        # The shape of the output is (block_size, emb_size)\n",
    "        X_pos = torch.arange(0, self.block_size)  # creating matrix with positions: [0, 1, ...]\n",
    "        X_e_1 = self.P(X_pos)   \n",
    "\n",
    "        # Adding together the embedding vectors\n",
    "        # The shape of X_e_0 is (batch_size, block_size, emb_size)\n",
    "        # The shape of X_e_1 is  (block_size, emb_size)\n",
    "        # (Broadcasting will make the operation possible)\n",
    "        # The shape of the output is (batch_size, block_size, emb_size)\n",
    "        X_e = X_e_0 + X_e_1\n",
    "\n",
    "\n",
    "        # Projecting the embedding vector X_e to obtain K, Q, V in the space of size head_size\n",
    "        K = self.W_k(X_e)\n",
    "        Q = self.W_q(X_e)\n",
    "        V = self.W_v(X_e)\n",
    "\n",
    "        # Matrix providing the attention mechanism\n",
    "        # - It is obtained comparing one by one, the rows of K with the rows of Q\n",
    "        # - The scalar product between the i-th row of K and j-th row of Q represents\n",
    "        #   the 'affinity' between the token at position i and the token at position j\n",
    "        # - We divide by sqrt(emb_size) to ensure that the rows have unit variance\n",
    "        # - We mask it with a triangular matrix to avoid contamination from tokens \n",
    "        #   in the future\n",
    "        W  = torch.tril(Q @ K.transpose(1,2))  # we transpose only the last 2 dims. 1st dim is batch \n",
    "        W /= W.sum(axis=1, keepdims=True)\n",
    "        W[W == 0.] = -torch.inf\n",
    "\n",
    "        # Applying attention mechanism to get info from previous steps in the block\n",
    "        # The mechanism is applied to the projection V\n",
    "        X_a = W.softmax(axis=1) @ V\n",
    "        \n",
    "        # Extracting the logits of the next character, for each character in the input\n",
    "        # The shape of the input is (batch_size, block_size, emb_size)\n",
    "        # The shape of the output is (batch_size, block_size, vocab_size)\n",
    "        logits = self.output_layer(X_a)\n",
    "\n",
    "        # computing loss, only when a target y is provided\n",
    "        if y is not None:\n",
    "            # reshaping logits, and target to match the expected shapes of the cross_entropy function\n",
    "            batch_size, block_size, vocab_size = logits.shape\n",
    "            logits = logits.view((batch_size*block_size, vocab_size))\n",
    "            y = y.view(batch_size*block_size)\n",
    "            \n",
    "            # computing the loss\n",
    "            loss = F.cross_entropy(logits, y)\n",
    "        else:\n",
    "            loss = None\n",
    "\n",
    "        return logits, loss\n",
    "\n",
    "    def generate(self, X, max_length=100):\n",
    "\n",
    "        # initilizing the result\n",
    "        res = X.clone()\n",
    "\n",
    "        for i in range(max_length):\n",
    "            # performing a forward pass\n",
    "            logits, loss = self.forward(X)\n",
    "    \n",
    "            # condsidering only the last character of each sequence\n",
    "            logits = logits[:, -1, :]\n",
    "    \n",
    "            # computing probs, from the logits\n",
    "            probs = logits.softmax(dim=-1)\n",
    "    \n",
    "            # sampling from the probability distributions\n",
    "            new_element = torch.multinomial(probs, 1)\n",
    "    \n",
    "            # attaching the new elements to the context\n",
    "            # and excluding the oldest element\n",
    "            X = torch.concat((X[:, 1:], new_element), axis=1)\n",
    "\n",
    "            # Storing the generated element\n",
    "            res = torch.concat((res, new_element), axis=1)\n",
    "\n",
    "        # Decoding the generated sequences\n",
    "        res = [decode(res[i].tolist()) for i in range(res.shape[0]) ]\n",
    "\n",
    "        return res"
   ]
  },
  {
   "cell_type": "code",
   "execution_count": 28,
   "id": "b029c013-ed66-47dc-bce3-67c7aed3e549",
   "metadata": {},
   "outputs": [
    {
     "data": {
      "text/plain": [
       "(torch.Size([32, 65]), tensor(4.2762, grad_fn=<NllLossBackward0>))"
      ]
     },
     "execution_count": 28,
     "metadata": {},
     "output_type": "execute_result"
    }
   ],
   "source": [
    "emb_size = 32\n",
    "head_size = 16\n",
    "m1 = TransformerLanguageModel(vocab_size, emb_size, block_size, head_size)\n",
    "logits, loss = m1(x_train, y_train)\n",
    "logits.shape, loss"
   ]
  },
  {
   "cell_type": "code",
   "execution_count": 30,
   "id": "b4a1eac8-4059-4614-ab98-d50f883970cc",
   "metadata": {},
   "outputs": [
    {
     "name": "stdout",
     "output_type": "stream",
     "text": [
      "TRAINING\n",
      "4.262965679168701\n",
      "3.232572078704834\n",
      "3.3648524284362793\n",
      "3.1062920093536377\n",
      "3.0491156578063965\n",
      "2.8436172008514404\n",
      "3.102666139602661\n",
      "2.591468572616577\n",
      "2.5304019451141357\n",
      "2.7577946186065674\n",
      "\n",
      "VALIDATION\n",
      "tensor(2.7700, grad_fn=<NllLossBackward0>)\n"
     ]
    }
   ],
   "source": [
    "# Training a model with Adam Optimizer\n",
    "optimizer1 = torch.optim.Adam(m1.parameters(), lr=10**(-3))\n",
    "\n",
    "print('TRAINING')\n",
    "steps = 100000\n",
    "for i in range(steps):\n",
    "\n",
    "    # generating a random batch\n",
    "    X_b, y_b = get_batch(data_train, batch_size, block_size, device)\n",
    "\n",
    "    # forward pass\n",
    "    logits, loss = m1(X_b, y_b)\n",
    "\n",
    "    # bacward pass\n",
    "    optimizer1.zero_grad(set_to_none=True)\n",
    "    loss.backward()\n",
    "    optimizer1.step()\n",
    "\n",
    "    # printing at 10% intervals\n",
    "    if i % int(steps / 10) == 0:\n",
    "        print(loss.item())\n",
    "\n",
    "print()\n",
    "print('VALIDATION')\n",
    "logits, loss = m1(X_val, y_val)\n",
    "print(loss)"
   ]
  },
  {
   "cell_type": "code",
   "execution_count": 50,
   "id": "1dc43da8-3e0f-4825-89d3-8535363e8f1d",
   "metadata": {},
   "outputs": [
    {
     "name": "stdout",
     "output_type": "stream",
     "text": [
      "QUENEN:\n",
      "WThe fice tore.\n",
      "\n",
      "NGOLDVO:\n",
      "Mar thisal, lo byoull lillo to fromind acd wilis cous.\n",
      "Whi theras?\n",
      "\n",
      "Sany outournd ticomous cou?\n",
      "\n",
      "ATher, wisto th anoug cere.\n",
      "Bus,\n",
      "H'se fris tyous gme?\n",
      "And sded fusil t these?\n",
      "CATheres:\n",
      "\n",
      "Theeserer'd wis adsthe thereint akd'd ands omon;\n",
      "D Buso mal byes th isad my arde\n"
     ]
    }
   ],
   "source": [
    "# Generating sequence from TRAINED model\n",
    "\n",
    "# creating initial context\n",
    "context = torch.zeros((1, block_size)).int()\n",
    "\n",
    "# generating sequence of arbitrary length \n",
    "res = m1.generate(context, max_length=300)\n",
    "\n",
    "print(res[0].strip())"
   ]
  },
  {
   "cell_type": "markdown",
   "id": "c5960fae-0e31-4b61-82af-dbed35624589",
   "metadata": {},
   "source": [
    "## Multi head attention"
   ]
  },
  {
   "cell_type": "code",
   "execution_count": 32,
   "id": "88f306dd-860d-4a2a-919a-20482103052f",
   "metadata": {},
   "outputs": [],
   "source": [
    "# class to represent a single attention head\n",
    "\n",
    "class AttentionHead(nn.Module):\n",
    "    \n",
    "    def __init__(self, emb_size, head_size):\n",
    "        super().__init__()\n",
    "        \n",
    "        # The transformations mapping X_e to a space of size head_size.\n",
    "        # X_e is a \"private\" representation of a token.\n",
    "        # From this vector we can project different  representations\n",
    "        #   - K => represents the information that X_e could provide (KEY)\n",
    "        #   - Q => represents the information that X_e might require (QUERY)\n",
    "        #   - V => represents the information that X_e will actually provide (VALUE)\n",
    "        self.W_k = nn.Linear(emb_size, head_size)\n",
    "        self.W_q = nn.Linear(emb_size, head_size)\n",
    "        self.W_v = nn.Linear(emb_size, head_size)\n",
    "\n",
    "    \n",
    "    def forward(self, X_e):\n",
    "\n",
    "        # Getting device where data is residing\n",
    "        device = X_e.device\n",
    "        \n",
    "        # Projecting the embedding vector X_e to obtain K, Q, V in the space of size head_size\n",
    "        K = self.W_k(X_e)\n",
    "        Q = self.W_q(X_e)\n",
    "        V = self.W_v(X_e)\n",
    "\n",
    "        # Matrix providing the attention mechanism\n",
    "        # - It is obtained comparing one by one, the rows of K with the rows of Q\n",
    "        # - The scalar product between the i-th row of K and j-th row of Q represents\n",
    "        #   the 'affinity' between the token at position i and the token at position j\n",
    "        # - We divide by sqrt(emb_size) to ensure that the rows have unit variance\n",
    "        # - We mask it with a triangular matrix to avoid contamination from tokens \n",
    "        #   in the future\n",
    "        W  = torch.tril(Q @ K.transpose(1,2)).to(device)  # we transpose only the last 2 dims. 1st dim is batch \n",
    "        W /= W.sum(axis=1, keepdims=True)\n",
    "        W[W == 0.] = -torch.inf\n",
    "\n",
    "        # Applying attention mechanism to get info from previous steps in the block\n",
    "        # The mechanism is applied to the projection V\n",
    "        X_a = W.softmax(axis=1) @ V\n",
    "        \n",
    "        return X_a\n",
    "\n",
    "        "
   ]
  },
  {
   "cell_type": "code",
   "execution_count": 33,
   "id": "31d4daf2-e5ee-4fa9-8519-30dbf64bcc04",
   "metadata": {},
   "outputs": [
    {
     "data": {
      "text/plain": [
       "tensor([[1., 0., 0.],\n",
       "        [1., 1., 0.],\n",
       "        [1., 1., 1.]])"
      ]
     },
     "execution_count": 33,
     "metadata": {},
     "output_type": "execute_result"
    }
   ],
   "source": [
    "torch.tril(torch.ones((3,3))).to(device)"
   ]
  },
  {
   "cell_type": "code",
   "execution_count": 34,
   "id": "049f9996-0a5d-4ac3-8429-5029242c9473",
   "metadata": {},
   "outputs": [
    {
     "data": {
      "text/plain": [
       "torch.Size([32, 200, 10])"
      ]
     },
     "execution_count": 34,
     "metadata": {},
     "output_type": "execute_result"
    }
   ],
   "source": [
    "ah = AttentionHead(30, 10)\n",
    "a = torch.randn((32, 200, 30))\n",
    "ah(a).shape"
   ]
  },
  {
   "cell_type": "code",
   "execution_count": 40,
   "id": "869ed937-5170-45f1-a1f5-eb3b530671bd",
   "metadata": {},
   "outputs": [],
   "source": [
    "# class to represent multiple attention heads applied in parallel\n",
    "\n",
    "class MultiAttentionHead(nn.Module):\n",
    "    \n",
    "    def __init__(self, heads_number, emb_size, head_size, ):\n",
    "        super().__init__()\n",
    "\n",
    "        # Initializing heads_number attention heads\n",
    "        self.heads = nn.ModuleList([AttentionHead(emb_size, head_size) for i in range(heads_number)])\n",
    "        \n",
    "    \n",
    "    def forward(self, X_e):\n",
    "\n",
    "        # Applying the attention heads separately, and concatenating the results\n",
    "        X_ma = torch.concat([ah(X_e) for ah in self.heads], axis=-1)\n",
    "        \n",
    "        return X_ma\n",
    "\n",
    "    '''\n",
    "    def to(device):\n",
    "        new_self = super(MultiAttentionHead, self).to(device)\n",
    "        new_self.heads = [ah.to(device) for ah in new_self.heads]\n",
    "    \n",
    "        return new_self\n",
    "    '''\n",
    "        "
   ]
  },
  {
   "cell_type": "code",
   "execution_count": 42,
   "id": "6196319e-0a12-4e1b-bdb4-2169a25e9f89",
   "metadata": {},
   "outputs": [
    {
     "data": {
      "text/plain": [
       "torch.Size([32, 200, 50])"
      ]
     },
     "execution_count": 42,
     "metadata": {},
     "output_type": "execute_result"
    }
   ],
   "source": [
    "ah = MultiAttentionHead(5, 30, 10)\n",
    "a = torch.randn((32, 200, 30))\n",
    "ah(a).shape"
   ]
  },
  {
   "cell_type": "code",
   "execution_count": 45,
   "id": "8edc284b-1e69-4aaf-8067-a9b4d8592a1b",
   "metadata": {},
   "outputs": [],
   "source": [
    "# Predicts next character using all previous characters\n",
    "# Uses multiple attention heads\n",
    "\n",
    "class MultiHeadTransformerLanguageModel(nn.Module):\n",
    "\n",
    "    def __init__(self, vocab_size, emb_size, block_size, head_size, heads_numbers):\n",
    "        super().__init__()\n",
    "\n",
    "        self.block_size = block_size\n",
    "\n",
    "        # A table mapping the index of each character, to an embedding vector X_e_0 of size emb_size\n",
    "        self.E = nn.Embedding(vocab_size, emb_size)\n",
    "\n",
    "        # # A table mapping the position of each character, to an embedding vector X_e_1 of size emb_size\n",
    "        self.P = nn.Embedding(block_size, emb_size)\n",
    "\n",
    "        # The multi-head attention  block\n",
    "        self.MAH = MultiAttentionHead(heads_numbers, emb_size, head_size)\n",
    "        \n",
    "        # Output layer to produce the logits\n",
    "        self.output_layer = nn.Linear(head_size*heads_numbers, vocab_size)\n",
    "        \n",
    "\n",
    "    def forward(self, X, y=None):\n",
    "\n",
    "        # Getting device where data is residing\n",
    "        device = X.device\n",
    "        \n",
    "        # Transforming the input indices to embedding vectors\n",
    "        # The shape of the input is (batch_size, block_size)\n",
    "        # The shape of the output is (batch_size, block_size, emb_size)\n",
    "        X_e_0 = self.E(X)\n",
    "\n",
    "        # Transforming the input indices to embedding vectors\n",
    "        # The shape of the input is (block_size)\n",
    "        # The shape of the output is (block_size, emb_size)\n",
    "        X_pos = torch.arange(0, self.block_size, device=device)  # creating matrix with positions: [0, 1, ...]\n",
    "        X_e_1 = self.P(X_pos)   \n",
    "\n",
    "        # Adding together the embedding vectors\n",
    "        # The shape of X_e_0 is (batch_size, block_size, emb_size)\n",
    "        # The shape of X_e_1 is  (block_size, emb_size)\n",
    "        # (Broadcasting will make the operation possible)\n",
    "        # The shape of the output is (batch_size, block_size, emb_size)\n",
    "        X_e = X_e_0 + X_e_1\n",
    "\n",
    "        # Applying the multiple attention heads \n",
    "        X_a = self.MAH(X_e)\n",
    "        \n",
    "        # Extracting the logits of the next character, for each character in the input\n",
    "        # The shape of the input is (batch_size, block_size, emb_size)\n",
    "        # The shape of the output is (batch_size, block_size, vocab_size)\n",
    "        logits = self.output_layer(X_a)\n",
    "\n",
    "        # computing loss, only when a target y is provided\n",
    "        if y is not None:\n",
    "            # reshaping logits, and target to match the expected shapes of the cross_entropy function\n",
    "            batch_size, block_size, vocab_size = logits.shape\n",
    "            logits = logits.view((batch_size*block_size, vocab_size))\n",
    "            y = y.view(batch_size*block_size)\n",
    "            \n",
    "            # computing the loss\n",
    "            loss = F.cross_entropy(logits, y)\n",
    "        else:\n",
    "            loss = None\n",
    "\n",
    "        return logits, loss\n",
    "\n",
    "    def generate(self, X, max_length=100):\n",
    "\n",
    "        # initilizing the result\n",
    "        res = X.clone()\n",
    "\n",
    "        for i in range(max_length):\n",
    "            # performing a forward pass\n",
    "            logits, loss = self.forward(X)\n",
    "    \n",
    "            # condsidering only the last character of each sequence\n",
    "            logits = logits[:, -1, :]\n",
    "    \n",
    "            # computing probs, from the logits\n",
    "            probs = logits.softmax(dim=-1)\n",
    "    \n",
    "            # sampling from the probability distributions\n",
    "            new_element = torch.multinomial(probs, 1)\n",
    "    \n",
    "            # attaching the new elements to the context\n",
    "            # and excluding the oldest element\n",
    "            X = torch.concat((X[:, 1:], new_element), axis=1)\n",
    "\n",
    "            # Storing the generated element\n",
    "            res = torch.concat((res, new_element), axis=1)\n",
    "\n",
    "        # Decoding the generated sequences\n",
    "        res = [decode(res[i].tolist()) for i in range(res.shape[0]) ]\n",
    "\n",
    "        return res"
   ]
  },
  {
   "cell_type": "code",
   "execution_count": 46,
   "id": "6ef71f49-e2f1-4c03-a99f-62f6bdd53bcc",
   "metadata": {},
   "outputs": [
    {
     "data": {
      "text/plain": [
       "torch.Size([4, 8])"
      ]
     },
     "execution_count": 46,
     "metadata": {},
     "output_type": "execute_result"
    }
   ],
   "source": [
    "x_train.shape"
   ]
  },
  {
   "cell_type": "code",
   "execution_count": 47,
   "id": "a3e17933-2783-4f18-8738-6e8b359240e4",
   "metadata": {},
   "outputs": [
    {
     "data": {
      "text/plain": [
       "(torch.Size([32, 65]), tensor(4.2218, grad_fn=<NllLossBackward0>))"
      ]
     },
     "execution_count": 47,
     "metadata": {},
     "output_type": "execute_result"
    }
   ],
   "source": [
    "\n",
    "#device = torch.device(\"mps\")\n",
    "emb_size = 32\n",
    "head_size = 8\n",
    "head_numbers = 4\n",
    "m2 = MultiHeadTransformerLanguageModel(vocab_size, emb_size, block_size, head_size, head_numbers)\n",
    "m2.to(device)\n",
    "logits, loss = m2(x_train, y_train)\n",
    "logits.shape, loss"
   ]
  },
  {
   "cell_type": "code",
   "execution_count": 48,
   "id": "81124442-5204-4182-b00f-40d9fc430b27",
   "metadata": {},
   "outputs": [
    {
     "name": "stdout",
     "output_type": "stream",
     "text": [
      "TRAINING\n",
      "4.2646565437316895\n",
      "2.7620913982391357\n",
      "2.6786835193634033\n",
      "2.490812063217163\n",
      "2.955991744995117\n",
      "2.7675678730010986\n",
      "3.134674310684204\n",
      "2.7351832389831543\n",
      "3.260215997695923\n",
      "2.4945969581604004\n",
      "\n",
      "VALIDATION\n",
      "tensor(2.8049, grad_fn=<NllLossBackward0>)\n",
      "CPU times: user 9min 15s, sys: 12min 32s, total: 21min 48s\n",
      "Wall time: 2min 51s\n"
     ]
    }
   ],
   "source": [
    "%%time\n",
    "\n",
    "# Training a model with Adam Optimizer\n",
    "optimizer2 = torch.optim.Adam(m2.parameters(), lr=10**(-3))\n",
    "\n",
    "print('TRAINING')\n",
    "steps = 100000\n",
    "for i in range(steps):\n",
    "\n",
    "    # generating a random batch\n",
    "    #X_b, y_b = get_batch(data_train, batch_size, block_size, device)\n",
    "    X_b, y_b = get_batch(data_train, batch_size, block_size, device)\n",
    "    \n",
    "    # forward pass\n",
    "    logits, loss = m2(X_b, y_b)\n",
    "\n",
    "    # bacward pass\n",
    "    optimizer2.zero_grad(set_to_none=True)\n",
    "    loss.backward()\n",
    "    optimizer2.step()\n",
    "\n",
    "    # printing at 10% intervals\n",
    "    if i % int(steps / 10) == 0:\n",
    "        print(loss.item())\n",
    "\n",
    "print()\n",
    "print('VALIDATION')\n",
    "logits, loss = m2(X_val, y_val)\n",
    "print(loss)"
   ]
  },
  {
   "cell_type": "code",
   "execution_count": 51,
   "id": "00066c21-a2a4-42ad-ae16-4b463bf715cb",
   "metadata": {},
   "outputs": [
    {
     "name": "stdout",
     "output_type": "stream",
     "text": [
      "QUENSES:\n",
      "Torowe ko ndo, wto n the,\n",
      "Wy isfroud;\n",
      "I''s spallll.\n",
      "I l Iwol, y aks corme ascuplo bll, alllll.\n",
      "KI I Od I Iw thals anst.\n",
      "Th alilds halpot,\n",
      "Thes akan hy teras;\n",
      "Tin hart mis.\n",
      "LI'd I this sto thing mit'ss th.\n",
      "An t hadd bire tong ghar?\n",
      "Cisin,\n",
      "Cand alss?\n",
      "NGo forore bus cecore?\n",
      "Mrom lblones,\n",
      "To co\n"
     ]
    }
   ],
   "source": [
    "# Generating sequence from TRAINED model\n",
    "\n",
    "# creating initial context\n",
    "context = torch.zeros((1, block_size)).int()\n",
    "\n",
    "# generating sequence of arbitrary length \n",
    "res = m2.generate(context, max_length=300)\n",
    "\n",
    "print(res[0].strip())"
   ]
  },
  {
   "cell_type": "markdown",
   "id": "2876f191-92cf-43b5-b859-3cd17a0bc7fd",
   "metadata": {},
   "source": [
    "# Multiple decoder layers\n"
   ]
  },
  {
   "cell_type": "code",
   "execution_count": 52,
   "id": "3872ca36-d2fa-4863-a898-9d2fc2acfd6c",
   "metadata": {},
   "outputs": [],
   "source": [
    "# Generalizing the architecture to have multiple decoder layers.\n",
    "# Each decoder layer is composed of :\n",
    "#   - a multiattention head\n",
    "#   - a fully connected feed forward layer\n",
    "#   - ...\n"
   ]
  },
  {
   "cell_type": "code",
   "execution_count": 53,
   "id": "bd43390c-a90a-4562-ab68-d2165728d677",
   "metadata": {},
   "outputs": [],
   "source": [
    "# Fully connected neural network transforming embed_size feature in new embed_size features.\n",
    "# The main diferrence between the attention block and the feed forward block are that:\n",
    "#   - the attention layer performs data transformation in the time dimension, by looking updating\n",
    "#     each feature of a token, by looking at the values of the same feature for tokens that apperead\n",
    "#     at previous times.\n",
    "#   - the feed forward layer creating new features for a given token by combining all the features of the same token,\n",
    "#     and without using any info from other token.\n",
    "#\n",
    "# The feed forward networks create new embed_size features in the following way:\n",
    "#  - create new K * embed_size features with a MLP\n",
    "#  - projects the K * embed_size into embed_size with a linear transformation\n",
    "\n",
    "class FeedForward(nn.Module):\n",
    "\n",
    "    def __init__(self, emb_size, K=4):\n",
    "        super().__init__()\n",
    "        self.W1 = nn.Linear(emb_size, K * emb_size)\n",
    "        self.R = nn.ReLU()\n",
    "        self.W2 = nn.Linear(K * emb_size, emb_size)\n",
    "\n",
    "    def forward(self, X):\n",
    "        # applying:\n",
    "        #  - linear transformation\n",
    "        #  - non linearity\n",
    "        #  - linear transformation\n",
    "        return self.W2(self.R(self.W1(X)))\n",
    "    "
   ]
  },
  {
   "cell_type": "code",
   "execution_count": 54,
   "id": "fcd96447-83f7-4de2-9a5b-8541221bd4ef",
   "metadata": {},
   "outputs": [
    {
     "data": {
      "text/plain": [
       "torch.Size([32, 20, 10])"
      ]
     },
     "execution_count": 54,
     "metadata": {},
     "output_type": "execute_result"
    }
   ],
   "source": [
    "x = torch.randn((32, 20, 10))\n",
    "ff = FeedForward(10)\n",
    "ff(x).shape"
   ]
  },
  {
   "cell_type": "code",
   "execution_count": 55,
   "id": "051c1896-abf6-41fc-a3cf-de1b1daf5996",
   "metadata": {},
   "outputs": [],
   "source": [
    "class EncoderLayer(nn.Module):\n",
    "\n",
    "    def __init__(self, heads_numbers, emb_size, head_size):\n",
    "        super().__init__()\n",
    "        \n",
    "        # The multi-head attention  block\n",
    "        self.MAH = MultiAttentionHead(heads_numbers, emb_size, head_size)\n",
    "\n",
    "        # The layer normalization for the outputs of the attention block\n",
    "        self.LN1 = nn.LayerNorm([emb_size])\n",
    "\n",
    "        # The feed forward layer\n",
    "        self.FF = FeedForward(emb_size)\n",
    "\n",
    "        # The layer normalization for the outputs of the attention block\n",
    "        self.LN2 = nn.LayerNorm([emb_size])\n",
    "\n",
    "    def forward(self, X):\n",
    "        \n",
    "        # Sharing informtion between tokens:\n",
    "        X_a = self.MAH(X)\n",
    "        # Normalizing so that the varince of each token is 1\n",
    "        X_a = self.LN1(X_a)\n",
    "        # Adding skip connection\n",
    "        X_a = X_a + X\n",
    "        \n",
    "        # Sharing information between the components of each token\n",
    "        X_f = self.FF(X_a)\n",
    "        # Normalizing so that the varince of each token is 1\n",
    "        X_f = self.LN2(X_f)\n",
    "        # Adding skip connection\n",
    "        X_f = X_f + X_a\n",
    "            \n",
    "        return X_f\n",
    "    "
   ]
  },
  {
   "cell_type": "code",
   "execution_count": 56,
   "id": "0907795c-0f59-4fb4-95ea-b3255f1fdfe7",
   "metadata": {},
   "outputs": [
    {
     "data": {
      "text/plain": [
       "torch.Size([32, 20, 30])"
      ]
     },
     "execution_count": 56,
     "metadata": {},
     "output_type": "execute_result"
    }
   ],
   "source": [
    "x = torch.randn((32, 20, 30))\n",
    "el = EncoderLayer(3, 30, 10)\n",
    "y = el(x)\n",
    "y.shape"
   ]
  },
  {
   "cell_type": "code",
   "execution_count": 57,
   "id": "be321e37-603d-4f13-ba76-7535d1714bd2",
   "metadata": {},
   "outputs": [
    {
     "name": "stdout",
     "output_type": "stream",
     "text": [
      "[tensor(3.7305), tensor(3.7253), tensor(3.7247)]\n",
      "[tensor(19.9721), tensor(19.9255), tensor(41.8956)]\n",
      "[tensor(0.4655, grad_fn=<MeanBackward0>), tensor(0.4643, grad_fn=<MeanBackward0>), tensor(1.0102, grad_fn=<MeanBackward0>)]\n"
     ]
    }
   ],
   "source": [
    "x = torch.randint(13, (32, 20, 30)).float()\n",
    "print([x.std(axis=i).mean() for i in range(3)])\n",
    "W = torch.randn(30, 50)\n",
    "x1 = x @ W\n",
    "print([x1.std(axis=i).mean() for i in range(3)])\n",
    "LN = nn.LayerNorm([50])\n",
    "y = LN(x1)\n",
    "print([y.std(axis=i).mean() for i in range(3)] )"
   ]
  },
  {
   "cell_type": "code",
   "execution_count": 58,
   "id": "1caea9e0-b41f-4aa7-95d5-2c94553da2e2",
   "metadata": {},
   "outputs": [],
   "source": [
    "# Predicts next character using all previous characters\n",
    "# Uses multiple encoder layers\n",
    "\n",
    "class MultiEncoderLayersLanguageModel(nn.Module):\n",
    "\n",
    "    def __init__(self, layers_number, vocab_size, emb_size, block_size, head_size, heads_number):\n",
    "        super().__init__()\n",
    "\n",
    "        self.block_size = block_size\n",
    "\n",
    "        # A table mapping the index of each character, to an embedding vector X_e_0 of size emb_size\n",
    "        self.E = nn.Embedding(vocab_size, emb_size)\n",
    "\n",
    "        # A table mapping the position of each character, to an embedding vector X_e_1 of size emb_size\n",
    "        self.P = nn.Embedding(block_size, emb_size)\n",
    "\n",
    "        # The encoder layers\n",
    "        self.EL = nn.Sequential(*[EncoderLayer(heads_number, emb_size, head_size) \n",
    "                                 for i in range(layers_number)])\n",
    "\n",
    "        # The layer normalization to apply before the last layer\n",
    "        self.LN = nn.LayerNorm([head_size*heads_number])\n",
    "        \n",
    "        # Output layer to produce the logits\n",
    "        self.output_layer = nn.Linear(head_size*heads_number, vocab_size)\n",
    "        \n",
    "\n",
    "    def forward(self, X, y=None):\n",
    "\n",
    "        # Getting device where data is residing\n",
    "        device = X.device\n",
    "        \n",
    "        # Transforming the input indices to embedding vectors\n",
    "        # The shape of the input is (batch_size, block_size)\n",
    "        # The shape of the output is (batch_size, block_size, emb_size)\n",
    "        X_e_0 = self.E(X)\n",
    "\n",
    "        # Transforming the input indices to embedding vectors\n",
    "        # The shape of the input is (block_size)\n",
    "        # The shape of the output is (block_size, emb_size)\n",
    "        X_pos = torch.arange(0, self.block_size, device=device)  # creating matrix with positions: [0, 1, ...]\n",
    "        X_e_1 = self.P(X_pos)   \n",
    "\n",
    "        # Adding together the embedding vectors\n",
    "        # The shape of X_e_0 is (batch_size, block_size, emb_size)\n",
    "        # The shape of X_e_1 is  (block_size, emb_size)\n",
    "        # (Broadcasting will make the operation possible)\n",
    "        # The shape of the output is (batch_size, block_size, emb_size)\n",
    "        X_e = X_e_0 + X_e_1\n",
    "\n",
    "        # Applying the encoder layers\n",
    "        X_a = self.EL(X_e)\n",
    "\n",
    "        # Applying the layer normalization\n",
    "        X_a = self.LN(X_a)\n",
    "        \n",
    "        # Extracting the logits of the next character, for each character in the input\n",
    "        # The shape of the input is (batch_size, block_size, emb_size)\n",
    "        # The shape of the output is (batch_size, block_size, vocab_size)\n",
    "        logits = self.output_layer(X_a)\n",
    "\n",
    "        # computing loss, only when a target y is provided\n",
    "        if y is not None:\n",
    "            # reshaping logits, and target to match the expected shapes of the cross_entropy function\n",
    "            batch_size, block_size, vocab_size = logits.shape\n",
    "            logits = logits.view((batch_size*block_size, vocab_size))\n",
    "            y = y.view(batch_size*block_size)\n",
    "            \n",
    "            # computing the loss\n",
    "            loss = F.cross_entropy(logits, y)\n",
    "        else:\n",
    "            loss = None\n",
    "\n",
    "        return logits, loss\n",
    "\n",
    "    def generate(self, X, max_length=100):\n",
    "\n",
    "        # initilizing the result\n",
    "        res = X.clone()\n",
    "\n",
    "        for i in range(max_length):\n",
    "            # performing a forward pass\n",
    "            logits, loss = self.forward(X)\n",
    "    \n",
    "            # condsidering only the last character of each sequence\n",
    "            logits = logits[:, -1, :]\n",
    "    \n",
    "            # computing probs, from the logits\n",
    "            probs = logits.softmax(dim=-1)\n",
    "    \n",
    "            # sampling from the probability distributions\n",
    "            new_element = torch.multinomial(probs, 1)\n",
    "    \n",
    "            # attaching the new elements to the context\n",
    "            # and excluding the oldest element\n",
    "            X = torch.concat((X[:, 1:], new_element), axis=1)\n",
    "\n",
    "            # Storing the generated element\n",
    "            res = torch.concat((res, new_element), axis=1)\n",
    "\n",
    "        # Decoding the generated sequences\n",
    "        res = [decode(res[i].tolist()) for i in range(res.shape[0]) ]\n",
    "\n",
    "        return res"
   ]
  },
  {
   "cell_type": "markdown",
   "id": "64ec10dd-055c-4e36-a3bb-d3355bf30dda",
   "metadata": {},
   "source": [
    "## 1 layer"
   ]
  },
  {
   "cell_type": "code",
   "execution_count": 59,
   "id": "8d208733-2344-4f01-95a1-1eaab14e2333",
   "metadata": {},
   "outputs": [
    {
     "data": {
      "text/plain": [
       "(torch.Size([32, 65]), tensor(4.2525, grad_fn=<NllLossBackward0>))"
      ]
     },
     "execution_count": 59,
     "metadata": {},
     "output_type": "execute_result"
    }
   ],
   "source": [
    "emb_size = 32\n",
    "head_size = 8\n",
    "head_numbers = 4\n",
    "m3 = MultiEncoderLayersLanguageModel(1, vocab_size, emb_size, block_size, head_size, head_numbers)\n",
    "m3.to(device)\n",
    "logits, loss = m3(x_train, y_train)\n",
    "logits.shape, loss"
   ]
  },
  {
   "cell_type": "code",
   "execution_count": 60,
   "id": "0abf1ee2-d728-4b7f-9414-1f02903b0ea2",
   "metadata": {},
   "outputs": [
    {
     "name": "stdout",
     "output_type": "stream",
     "text": [
      "TRAINING\n",
      "4.5573039054870605\n",
      "2.4879300594329834\n",
      "2.2736194133758545\n",
      "1.884597659111023\n",
      "2.193108320236206\n",
      "2.0519917011260986\n",
      "2.158106565475464\n",
      "2.104804277420044\n",
      "1.7611197233200073\n",
      "2.0642142295837402\n",
      "\n",
      "VALIDATION\n",
      "tensor(2.0711, grad_fn=<NllLossBackward0>)\n",
      "CPU times: user 11min 41s, sys: 15min 22s, total: 27min 3s\n",
      "Wall time: 3min 29s\n"
     ]
    }
   ],
   "source": [
    "%%time\n",
    "\n",
    "# Training a model with Adam Optimizer\n",
    "optimizer3 = torch.optim.Adam(m3.parameters(), lr=10**(-3))\n",
    "\n",
    "print('TRAINING')\n",
    "steps = 100000\n",
    "for i in range(steps):\n",
    "\n",
    "    # generating a random batch\n",
    "    #X_b, y_b = get_batch(data_train, batch_size, block_size, device)\n",
    "    X_b, y_b = get_batch(data_train, batch_size, block_size, device)\n",
    "    \n",
    "    # forward pass\n",
    "    logits, loss = m3(X_b, y_b)\n",
    "\n",
    "    # bacward pass\n",
    "    optimizer3.zero_grad(set_to_none=True)\n",
    "    loss.backward()\n",
    "    optimizer3.step()\n",
    "\n",
    "    # printing at 10% intervals\n",
    "    if i % int(steps / 10) == 0:\n",
    "        print(loss.item())\n",
    "\n",
    "print()\n",
    "print('VALIDATION')\n",
    "logits, loss = m3(X_val, y_val)\n",
    "print(loss)"
   ]
  },
  {
   "cell_type": "code",
   "execution_count": 61,
   "id": "7d2a5741-41b3-440f-a0f2-6ab1a3709352",
   "metadata": {},
   "outputs": [
    {
     "name": "stdout",
     "output_type": "stream",
     "text": [
      "BUCLESLI:\n",
      "Plarst.\n",
      "\n",
      "RICCATHANLANE:\n",
      "Werwill de.\n",
      "\n",
      "CARBUTIO:\n",
      "By O hane,\n",
      "Whe andess call ath pis.\n",
      "\n",
      "My'so Cak o blin fig Reast, fth, o.\n",
      "\n",
      "RIV:\n",
      "By Geart nodll't bot atherle w hard id na f iredecl comehof h fricomblese,\n",
      "That plouring ibesin com jonssecturt be hear?\n",
      "SICELKIABONVELIUCET:\n",
      "Dn py haf f youlcedes;\n"
     ]
    }
   ],
   "source": [
    "# Generating sequence from TRAINED model\n",
    "\n",
    "# creating initial context\n",
    "context = torch.zeros((1, block_size)).int()\n",
    "\n",
    "# generating sequence of arbitrary length \n",
    "res = m3.generate(context, max_length=300)\n",
    "\n",
    "print(res[0].strip())"
   ]
  },
  {
   "cell_type": "markdown",
   "id": "d46ee468-bce3-4e51-be84-787f60c9b3f0",
   "metadata": {},
   "source": [
    "## 2 layers"
   ]
  },
  {
   "cell_type": "code",
   "execution_count": 62,
   "id": "aa8b8d71-401c-4ba7-8bd2-2f940a1d344f",
   "metadata": {},
   "outputs": [
    {
     "data": {
      "text/plain": [
       "(torch.Size([32, 65]), tensor(4.3400, grad_fn=<NllLossBackward0>))"
      ]
     },
     "execution_count": 62,
     "metadata": {},
     "output_type": "execute_result"
    }
   ],
   "source": [
    "emb_size = 32\n",
    "head_size = 8\n",
    "head_numbers = 4\n",
    "m4 = MultiEncoderLayersLanguageModel(2, vocab_size, emb_size, block_size, head_size, head_numbers)\n",
    "m4.to(device)\n",
    "logits, loss = m4(x_train, y_train)\n",
    "logits.shape, loss"
   ]
  },
  {
   "cell_type": "code",
   "execution_count": 63,
   "id": "f6f22320-7de1-4cf8-a2e6-b103ccc49830",
   "metadata": {},
   "outputs": [
    {
     "name": "stdout",
     "output_type": "stream",
     "text": [
      "TRAINING\n",
      "4.531033039093018\n",
      "1.9015980958938599\n",
      "2.156529664993286\n",
      "2.5381391048431396\n",
      "1.8989261388778687\n",
      "2.076533079147339\n",
      "1.9867684841156006\n",
      "1.7173433303833008\n",
      "1.571828842163086\n",
      "1.8651556968688965\n",
      "\n",
      "VALIDATION\n",
      "tensor(1.6103, grad_fn=<NllLossBackward0>)\n",
      "CPU times: user 22min 29s, sys: 29min 41s, total: 52min 11s\n",
      "Wall time: 6min 44s\n"
     ]
    }
   ],
   "source": [
    "%%time\n",
    "\n",
    "# Training a model with Adam Optimizer\n",
    "optimizer4 = torch.optim.Adam(m4.parameters(), lr=10**(-3))\n",
    "\n",
    "print('TRAINING')\n",
    "steps = 100000\n",
    "for i in range(steps):\n",
    "\n",
    "    # generating a random batch\n",
    "    #X_b, y_b = get_batch(data_train, batch_size, block_size, device)\n",
    "    X_b, y_b = get_batch(data_train, batch_size, block_size, device)\n",
    "    \n",
    "    # forward pass\n",
    "    logits, loss = m4(X_b, y_b)\n",
    "\n",
    "    # bacward pass\n",
    "    optimizer4.zero_grad(set_to_none=True)\n",
    "    loss.backward()\n",
    "    optimizer4.step()\n",
    "\n",
    "    # printing at 10% intervals\n",
    "    if i % int(steps / 10) == 0:\n",
    "        print(loss.item())\n",
    "\n",
    "print()\n",
    "print('VALIDATION')\n",
    "logits, loss = m4(X_val, y_val)\n",
    "print(loss)"
   ]
  },
  {
   "cell_type": "code",
   "execution_count": 66,
   "id": "60a542a6-c969-41de-bb77-67bec1b4b79f",
   "metadata": {},
   "outputs": [
    {
     "name": "stdout",
     "output_type": "stream",
     "text": [
      "COFING VICENSA:\n",
      "God rair.\n",
      "\n",
      "Mut Mord got\n",
      "Bule,\n",
      "VNE I ther, so.\n",
      "\n",
      "Pin it of bease heans\n",
      "Thice our s pyet.\n",
      "\n",
      "Fo wild no?\n",
      "DUSES:\n",
      "Amy stak Momm grong wit astent Wutiiot.\n",
      "\n",
      "JAl, beait I mor los wingy?\n",
      "\n",
      "Roy'l nie.\n",
      "\n",
      "COF IY gral hith whil To now's\n",
      "M:\n",
      "My to dome not, to me. horre?\n",
      "Saur grout Yor A.\n",
      "\n",
      "ESINE:\n",
      "My I\n"
     ]
    }
   ],
   "source": [
    "# Generating sequence from TRAINED model\n",
    "\n",
    "# creating initial context\n",
    "context = torch.zeros((1, block_size)).int()\n",
    "\n",
    "# generating sequence of arbitrary length \n",
    "res = m4.generate(context, max_length=300)\n",
    "\n",
    "print(res[0].strip())"
   ]
  },
  {
   "cell_type": "code",
   "execution_count": null,
   "id": "30144fa1-8f44-40f3-84ef-5233e33b4b14",
   "metadata": {},
   "outputs": [],
   "source": []
  },
  {
   "cell_type": "code",
   "execution_count": null,
   "id": "e41c66dc-3127-46eb-ad1d-23e5ad6b5e21",
   "metadata": {},
   "outputs": [],
   "source": []
  }
 ],
 "metadata": {
  "kernelspec": {
   "display_name": "Python 3 (ipykernel)",
   "language": "python",
   "name": "python3"
  },
  "language_info": {
   "codemirror_mode": {
    "name": "ipython",
    "version": 3
   },
   "file_extension": ".py",
   "mimetype": "text/x-python",
   "name": "python",
   "nbconvert_exporter": "python",
   "pygments_lexer": "ipython3",
   "version": "3.10.6"
  }
 },
 "nbformat": 4,
 "nbformat_minor": 5
}
